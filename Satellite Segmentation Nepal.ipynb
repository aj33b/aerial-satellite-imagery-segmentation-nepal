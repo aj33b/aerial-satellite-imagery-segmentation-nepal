{
 "cells": [
  {
   "metadata": {},
   "cell_type": "markdown",
   "source": [
    "# Satellite Image Segmentation of Nepal\n",
    "**Prepared By:** Ajeeb Rimal | M. Tech. AI | Kathmandu University"
   ]
  },
  {
   "metadata": {},
   "cell_type": "markdown",
   "source": "## Notebook setup and imports"
  },
  {
   "metadata": {
    "ExecuteTime": {
     "end_time": "2025-02-11T02:45:42.626240Z",
     "start_time": "2025-02-11T02:45:32.647093Z"
    }
   },
   "cell_type": "code",
   "source": [
    "import cv2\n",
    "%reload_ext autoreload\n",
    "%autoreload 2\n",
    "\n",
    "import os\n",
    "import random\n",
    "from rasterio.features import shapes\n",
    "import matplotlib.pyplot as plt\n",
    "import numpy as np\n",
    "import rasterio\n",
    "from osgeo import ogr, gdal\n",
    "from torchvision.transforms import transforms\n",
    "import geopandas as gpd\n",
    "\n",
    "from generator import NepalDataset, NepalDataGenerator\n",
    "from pan import PAN\n",
    "from train import train_model\n",
    "from utils import create_patches, visualize,rasterize_masks,setup_logger\n",
    "import torch\n",
    "import torch.nn as nn\n",
    "import torch.optim as optim\n",
    "from torchvision.models.segmentation import deeplabv3_resnet50"
   ],
   "outputs": [],
   "execution_count": 1
  },
  {
   "metadata": {},
   "cell_type": "markdown",
   "source": [
    "## Directory definitions\n",
    "We have defined the directory paths for the dataset, image, and mask files. We have also defined and created the output directory where the patches will be saved.Additionally we have defined the patch size, stride, and boundary for the patches. The boundary is defined as a list of four values: [min_x, min_y, max_x, max_y] which represent the minimum and maximum x and y coordinates of the area of interest, respectively. We have used the `os` library to create the output directory if it does not exist."
   ]
  },
  {
   "metadata": {
    "ExecuteTime": {
     "end_time": "2025-02-11T02:45:42.744386Z",
     "start_time": "2025-02-11T02:45:42.636216Z"
    }
   },
   "cell_type": "code",
   "source": [
    "mission_list = ['Mission 1', 'Mission 2', 'Mission 3', 'Mission 4', 'Mission 5']\n",
    "dataset_dir = os.path.join('/', 'Users', 'ajeebrimal', 'Documents', 'Masters Thesis', 'Datasets', 'Rupandehi Data')\n",
    "annotations_dir = os.path.join(dataset_dir, 'Annotations')\n",
    "image_dir = os.path.join(dataset_dir, 'TIF Files')\n",
    "mask_dirs = [os.path.join(annotations_dir, mask_dir) for mask_dir in mission_list]\n",
    "mask_paths = [os.path.join(mask_dir, f'{mission}.shp') for mask_dir, mission in zip(mask_dirs, mission_list)]\n",
    "image_paths = [os.path.join(image_dir, f'{mission}.tif') for mission in mission_list]"
   ],
   "outputs": [],
   "execution_count": 2
  },
  {
   "metadata": {
    "ExecuteTime": {
     "end_time": "2025-02-11T02:45:44.722177Z",
     "start_time": "2025-02-11T02:45:43.232097Z"
    }
   },
   "cell_type": "code",
   "source": [
    "output_dir = os.path.join('.', 'output')\n",
    "os.makedirs(output_dir, exist_ok=True)\n",
    "\n",
    "rasterized_dir = os.path.join(output_dir, 'rasterized_outputs')\n",
    "os.makedirs(rasterized_dir, exist_ok=True)\n",
    "\n",
    "mask_paths_rasterized = [os.path.join(rasterized_dir, f'{mission}_rasterized.tif') for mission in mission_list]"
   ],
   "outputs": [],
   "execution_count": 3
  },
  {
   "metadata": {
    "ExecuteTime": {
     "end_time": "2025-02-11T02:45:45.095930Z",
     "start_time": "2025-02-11T02:45:44.996828Z"
    }
   },
   "cell_type": "code",
   "source": [
    "patch_size = 512\n",
    "stride = 256\n",
    "boundary = [3053710.461731, 751158.377075, 3055429.699707, 753175.112122]\n",
    "\n",
    "patch_output_dir = os.path.join(output_dir, f\"{patch_size}x{patch_size}\")\n",
    "os.makedirs(patch_output_dir, exist_ok=True)"
   ],
   "outputs": [],
   "execution_count": 4
  },
  {
   "metadata": {},
   "cell_type": "markdown",
   "source": "#### Log setup"
  },
  {
   "metadata": {
    "ExecuteTime": {
     "end_time": "2025-02-11T02:45:45.219499Z",
     "start_time": "2025-02-11T02:45:45.114307Z"
    }
   },
   "cell_type": "code",
   "source": [
    "# Ensure the log directory exists\n",
    "log_dir = os.path.join('.', 'logs')\n",
    "os.makedirs(log_dir, exist_ok=True)\n",
    "\n",
    "logger = setup_logger(log_dir)\n",
    "logger.info(\"Logger setup complete.\")"
   ],
   "outputs": [
    {
     "name": "stdout",
     "output_type": "stream",
     "text": [
      "\u001B[92m2025-02-11 08:30:45,209 - .\\logs - INFO - Logger setup complete. [in C:\\Users\\KUAI 01\\AppData\\Local\\Temp\\ipykernel_8828\\83787627.py:6]\u001B[0m\n"
     ]
    }
   ],
   "execution_count": 5
  },
  {
   "metadata": {},
   "cell_type": "markdown",
   "source": "## Dataset preparation"
  },
  {
   "metadata": {},
   "cell_type": "markdown",
   "source": [
    "### Rasterize the mask\n",
    "Rasterize the mask to the same projection and pixel resolution as the reference image. We have used the `gdal` library to rasterize the mask. The `gdal` library is a translator library for raster and vector geospatial data formats. It also includes a variety of useful command-line utilities for data translation and processing."
   ]
  },
  {
   "metadata": {},
   "cell_type": "code",
   "outputs": [],
   "execution_count": null,
   "source": [
    "import os\n",
    "import concurrent.futures\n",
    "\n",
    "# Use ThreadPoolExecutor to run rasterization in parallel\n",
    "with concurrent.futures.ThreadPoolExecutor() as executor:\n",
    "    futures = [executor.submit(rasterize_masks, image_file_path, mask_shape_file_path,rasterized_dir,logger) for image_file_path, mask_shape_file_path in zip(image_paths, mask_paths)]\n",
    "    concurrent.futures.wait(futures)"
   ]
  },
  {
   "metadata": {},
   "cell_type": "markdown",
   "source": [
    "### Create image and mask patches\n",
    "\n",
    "To prepare the satellite images and masks for segmentation, we first need to convert them into smaller patches. Here's how we can do it:\n",
    "\n",
    "1. Use the `create_patches()` function from the `utils` module.\n",
    "2. Pass the following parameters to the function:\n",
    "    - The file path of the satellite image in `.tif` format.\n",
    "    - The file path of the mask in `.shp` format.\n",
    "    - The output directory where the created patches will be saved.\n",
    "    - The patch size (we use the same value for height and width).\n",
    "    - The stride.\n",
    "    - A boundary that defines the area of interest.\n",
    "3. The function will iterate over the satellite image in patches of the specified size and stride.\n",
    "4. For each patch, the function will check if it intersects with any mask geometries (which are shapes such as polygons, lines, points, etc. that represent the features belonging to certain classes).\n",
    "5. If the patch intersects with any mask geometries, the function will create a patch mask by rasterizing the intersecting mask geometries. Otherwise, it will discard the patch.\n",
    "6. The function will save the patch and its corresponding patch mask to the output directory."
   ]
  },
  {
   "metadata": {},
   "cell_type": "code",
   "outputs": [],
   "execution_count": null,
   "source": [
    "from utils import create_patches_one_hot, create_patches_categorical\n",
    "\n",
    "min_mask_coverage=0.1 # Percentage of minimum mask coverage in the patch\n",
    "\n",
    "# Iterate over image and mask paths\n",
    "for image_path, mask_path in zip(image_paths, mask_paths_rasterized):\n",
    "    # Pass `outer_pbar` to the inner function\n",
    "    create_patches_categorical(\n",
    "        image_path=image_path,\n",
    "        mask_path=mask_path,\n",
    "        output_dir=patch_output_dir,\n",
    "        patch_size=patch_size,\n",
    "        stride=stride,\n",
    "        logger=logger,\n",
    "        min_mask_coverage=min_mask_coverage\n",
    "    )"
   ]
  },
  {
   "metadata": {},
   "cell_type": "markdown",
   "source": [
    "### Split the dataset into training and validation sets\n",
    "This process organizes satellite image data and corresponding masks into `train`, `val`, and `test` directories while maintaining alignment between images and masks. Here's an overview of the steps:\n",
    "1. **Input Data**:\n",
    "    - The input directories contain images and their corresponding masks:\n",
    "        - `images/`: Contains satellite patch images (e.g., `Mission 1_patch_112.jpg`).\n",
    "        - `masks/`: Contains segmentation/rasterized mask files corresponding to these images (e.g., `Mission 1_patch_112_mask.jpg`).\n",
    "\n",
    "    - All files are matched and checked to ensure that every image has a corresponding mask.\n",
    "\n",
    "2. **Mission Extraction**:\n",
    "    - The filenames follow a predefined naming convention (e.g., `Mission 1_patch_112.jpg` and `Mission 1_patch_112_mask.jpg`).\n",
    "    - From the filenames, the mission name (`Mission 1`) is extracted and used as a label for stratification to ensure an even distribution of data during splits.\n",
    "\n",
    "3. **Sorting and Validation**:\n",
    "    - The image and mask paths are sorted to ensure alignment.\n",
    "    - If any discrepancies occur (e.g., missing masks for images), the process halts and raises an error.\n",
    "\n",
    "4. **Stratified Splits**:\n",
    "    - The dataset is split into training, validation, and test sets:\n",
    "        - **Training Set**: 60% of the total images.\n",
    "        - **Validation Set**: 20% of the total images.\n",
    "        - **Test Set**: 20% of the total images.\n",
    "\n",
    "    - A stratified sampling approach is used to ensure that the mission distribution is consistent across all subsets.\n",
    "\n",
    "5. **Directory Structure Creation**:\n",
    "    - A structured directory system is created for the split datasets:\n",
    "\n",
    "     ```dataset_split/\n",
    "     ├── train/\n",
    "     │   ├── images/\n",
    "     │   └── masks/\n",
    "     ├── val/\n",
    "     │   ├── images/\n",
    "     │   └── masks/\n",
    "     └── test/\n",
    "         ├── images/\n",
    "         └── masks/\n",
    "6. **File Movement**:\n",
    "    - The image and mask files are moved into their respective subset directories (`images` and `masks` folders under `train`, `val`, and `test`).\n",
    "    - Each file is carefully moved to maintain alignment between the images and their masks.\n",
    "\n",
    "7. **Output**:\n",
    "    - The final output is a set of well-organized directories containing training, validation, and test data, ready for use in machine learning workflows.\n",
    "\n",
    "This process ensures data integrity and proper splitting, allowing fair evaluation of models during training, validation, and testing stages.\n"
   ]
  },
  {
   "metadata": {},
   "cell_type": "code",
   "outputs": [],
   "execution_count": null,
   "source": [
    "import os\n",
    "import shutil\n",
    "from sklearn.model_selection import train_test_split\n",
    "\n",
    "# Set directory for the input images and masks\n",
    "input_images_dir = os.path.join(patch_output_dir, 'images')\n",
    "input_masks_dir = os.path.join(patch_output_dir, 'masks')\n",
    "\n",
    "# Directory to store the split dataset\n",
    "split_output_dir = os.path.join(patch_output_dir, 'dataset_split')\n",
    "train_output_dir = os.path.join(split_output_dir, 'train')\n",
    "val_output_dir = os.path.join(split_output_dir, 'val')\n",
    "test_output_dir = os.path.join(split_output_dir, 'test')\n",
    "\n",
    "# Gather all image files and their corresponding masks using updated naming convention\n",
    "all_image_paths = []\n",
    "all_mask_paths = []\n",
    "unpaired_images = []\n",
    "unpaired_masks = []\n",
    "\n",
    "for fname in os.listdir(input_images_dir):\n",
    "    if fname.endswith(\".jpg\"):\n",
    "        mask_name = fname.replace(\".jpg\", \"_mask.jpg\")  # Ensure masks follow the naming convention\n",
    "        image_path = os.path.join(input_images_dir, fname)\n",
    "        mask_path = os.path.join(input_masks_dir, mask_name)\n",
    "\n",
    "        if os.path.exists(mask_path):  # Pair only if the corresponding mask exists\n",
    "            all_image_paths.append(image_path)\n",
    "            all_mask_paths.append(mask_path)\n",
    "        else:\n",
    "            # Log unpaired image\n",
    "            unpaired_images.append(image_path)\n",
    "\n",
    "# Log unpaired masks\n",
    "for fname in os.listdir(input_masks_dir):\n",
    "    if fname.endswith(\"_mask.jpg\"):\n",
    "        image_name = fname.replace(\"_mask.jpg\", \".jpg\")\n",
    "        image_path = os.path.join(input_images_dir, image_name)\n",
    "        if not os.path.exists(image_path):\n",
    "            unpaired_masks.append(os.path.join(input_masks_dir, fname))\n",
    "\n",
    "# Print logs for unpaired files\n",
    "if unpaired_images:\n",
    "    logger.warning(f\"Unpaired images found: {len(unpaired_images)}\")\n",
    "    for img in unpaired_images:\n",
    "        logger.warning(f\"Unpaired image: {img}\")\n",
    "\n",
    "if unpaired_masks:\n",
    "    logger.warning(f\"Unpaired masks found: {len(unpaired_masks)}\")\n",
    "    for mask in unpaired_masks:\n",
    "        logger.warning(f\"Unpaired mask: {mask}\")\n",
    "\n",
    "# Ensure input directories contain valid paired files\n",
    "if not all_image_paths or not all_mask_paths:\n",
    "    raise ValueError(\"No valid image-mask pairs found. Check the directories for properly paired `.jpg` files.\")\n",
    "\n",
    "# Ensure that the total number of images matches the total number of masks\n",
    "if len(all_image_paths) != len(all_mask_paths):\n",
    "    raise ValueError(\n",
    "        \"The number of image files does not match the number of mask files. Ensure all images have corresponding masks.\"\n",
    "    )\n",
    "\n",
    "# Perform train-test-validation split\n",
    "train_images, temp_images, train_masks, temp_masks = train_test_split(\n",
    "    all_image_paths, all_mask_paths,\n",
    "    test_size=0.4, random_state=42\n",
    ")\n",
    "\n",
    "# Further split validation and test sets\n",
    "val_images, test_images, val_masks, test_masks = train_test_split(\n",
    "    temp_images, temp_masks,\n",
    "    test_size=0.5, random_state=42\n",
    ")\n",
    "\n",
    "# Confirm dataset sizes\n",
    "logger.debug(f\"Training set size: {len(train_images)}\")\n",
    "logger.debug(f\"Validation set size: {len(val_images)}\")\n",
    "logger.debug(f\"Test set size: {len(test_images)}\")\n",
    "\n",
    "# Create necessary output directories for train, val, and test splits\n",
    "for dir_path in [train_output_dir, val_output_dir, test_output_dir]:\n",
    "    os.makedirs(os.path.join(dir_path, 'images'), exist_ok=True)\n",
    "    os.makedirs(os.path.join(dir_path, 'masks'), exist_ok=True)\n",
    "\n",
    "# Helper function to move files\n",
    "def move_files_to_split(file_paths, target_dir, subfolder_name):\n",
    "    for file_path in file_paths:\n",
    "        filename = os.path.basename(file_path)\n",
    "        destination_path = os.path.join(target_dir, subfolder_name, filename)\n",
    "        if os.path.exists(destination_path):  # Handle potential overwrite issues\n",
    "            logger.warning(f\"File already exists and won't be overwritten: {destination_path}\")\n",
    "        else:\n",
    "            shutil.move(file_path, destination_path)\n",
    "\n",
    "# Move split files into their respective directories\n",
    "# Training set\n",
    "move_files_to_split(train_images, train_output_dir, 'images')\n",
    "move_files_to_split(train_masks, train_output_dir, 'masks')\n",
    "\n",
    "# Validation set\n",
    "move_files_to_split(val_images, val_output_dir, 'images')\n",
    "move_files_to_split(val_masks, val_output_dir, 'masks')\n",
    "\n",
    "# Test set\n",
    "move_files_to_split(test_images, test_output_dir, 'images')\n",
    "move_files_to_split(test_masks, test_output_dir, 'masks')\n",
    "\n",
    "logger.info(f\"Files have been successfully split and moved to {split_output_dir}.\")"
   ]
  },
  {
   "metadata": {},
   "cell_type": "markdown",
   "source": "### Merge the split dataset back into a unified dataset"
  },
  {
   "metadata": {},
   "cell_type": "code",
   "outputs": [],
   "execution_count": null,
   "source": [
    "import os\n",
    "import shutil\n",
    "\n",
    "# Set the directory for the split dataset\n",
    "split_output_dir = os.path.join(patch_output_dir, 'dataset_split')\n",
    "train_output_dir = os.path.join(split_output_dir, 'train')\n",
    "val_output_dir = os.path.join(split_output_dir, 'val')\n",
    "test_output_dir = os.path.join(split_output_dir, 'test')\n",
    "\n",
    "# Set the destination directory for the merged dataset\n",
    "merged_output_dir = os.path.join(patch_output_dir, 'merged_dataset')\n",
    "output_images_dir = os.path.join(merged_output_dir, 'images')\n",
    "output_masks_dir = os.path.join(merged_output_dir, 'masks')\n",
    "\n",
    "# Create the merged directories if they don't exist\n",
    "os.makedirs(output_images_dir, exist_ok=True)\n",
    "os.makedirs(output_masks_dir, exist_ok=True)\n",
    "\n",
    "\n",
    "# Helper function to merge files\n",
    "def merge_split_files(split_dirs, source_subfolder, output_dir):\n",
    "    for split_dir in split_dirs:\n",
    "        source_dir = os.path.join(split_dir, source_subfolder)\n",
    "\n",
    "        if os.path.exists(source_dir):\n",
    "            for fname in os.listdir(source_dir):\n",
    "                source_path = os.path.join(source_dir, fname)\n",
    "                destination_path = os.path.join(output_dir, fname)\n",
    "\n",
    "                if os.path.exists(destination_path):  # Handle duplicates\n",
    "                    logger.warning(f\"File already exists in the merged directory and won't be duplicated: {destination_path}\")\n",
    "                else:\n",
    "                    shutil.move(source_path, destination_path)\n",
    "\n",
    "\n",
    "# List of split directories\n",
    "split_dirs = [train_output_dir, val_output_dir, test_output_dir]\n",
    "\n",
    "# Merge images and masks back into unified directories\n",
    "merge_split_files(split_dirs, 'images', output_images_dir)\n",
    "merge_split_files(split_dirs, 'masks', output_masks_dir)\n",
    "\n",
    "logger.info(f\"Files have been successfully merged into {merged_output_dir}.\")\n"
   ]
  },
  {
   "metadata": {},
   "cell_type": "markdown",
   "source": [
    "### Visualize a random image patch and its mask\n",
    "We can visualize a random patch and its mask using the `rasterio` and `matplotlib` libraries. The `rasterio` library is a Python package that provides a fast and direct way to work with raster data. We can use the `rasterio.open()` function to open the image and mask files. We can then use the `read()` function to read the image and mask data. We can then use the `imshow()` function from the `matplotlib.pyplot` module to display the image and the mask."
   ]
  },
  {
   "metadata": {},
   "cell_type": "code",
   "outputs": [],
   "execution_count": null,
   "source": [
    "import os\n",
    "import random\n",
    "import rasterio\n",
    "import matplotlib.pyplot as plt\n",
    "\n",
    "# Set the base path for the dataset_split directory\n",
    "dataset_split_dir = os.path.join(patch_output_dir, \"dataset_split\")\n",
    "\n",
    "# Choose a random subset (train, val, or test)\n",
    "subsets = ['train', 'val', 'test']\n",
    "random_subset = random.choice(subsets)\n",
    "\n",
    "# Get paths of images and masks within the chosen subset\n",
    "subset_images_dir = os.path.join(dataset_split_dir, random_subset, \"images\")\n",
    "subset_masks_dir = os.path.join(dataset_split_dir, random_subset, \"masks\")\n",
    "\n",
    "# Get list of all image files in the chosen subset\n",
    "image_files = [f for f in os.listdir(subset_images_dir) if f.endswith('.jpg')]\n",
    "\n",
    "# Ensure the subset has valid image files\n",
    "if not image_files:\n",
    "    raise ValueError(f\"No image files found in the {random_subset} subset.\")\n",
    "\n",
    "# Select a random image file\n",
    "random_image_file = random.choice(image_files)\n",
    "\n",
    "# Construct the full paths to the randomly selected image and corresponding mask files\n",
    "temp_image_path = os.path.join(subset_images_dir, random_image_file)\n",
    "temp_mask_path = os.path.join(subset_masks_dir, random_image_file.replace(\".jpg\", \"_mask.jpg\"))\n",
    "\n",
    "# Open the image and mask files using Rasterio\n",
    "with rasterio.open(temp_image_path) as src:\n",
    "    image = src.read().astype(float)\n",
    "    image_transform = src.transform\n",
    "\n",
    "with rasterio.open(temp_mask_path) as src:\n",
    "    mask = src.read()\n",
    "    mask_transform = src.transform\n",
    "\n",
    "# The image data read by Rasterio is in (bands, rows, cols) order\n",
    "# Convert the image data to (rows, cols, bands) order for visualization\n",
    "transposed_image = image.transpose((1, 2, 0))\n",
    "\n",
    "# Scale the image data to be between 0 and 1 for better visualization\n",
    "transposed_image -= transposed_image.min()\n",
    "transposed_image /= transposed_image.max()\n",
    "\n",
    "# Create side-by-side plots\n",
    "fig, ax = plt.subplots(1, 2, figsize=(15, 15))\n",
    "\n",
    "# Display the image\n",
    "ax[0].imshow(transposed_image)\n",
    "ax[0].set_title(f\"Image ({random_subset})\")\n",
    "\n",
    "# Display the mask\n",
    "ax[1].imshow(mask[0], cmap='gray')\n",
    "ax[1].set_title(f\"Mask ({random_subset})\")\n",
    "\n",
    "plt.tight_layout()\n",
    "plt.show()\n",
    "\n",
    "# Print shapes for additional information\n",
    "logger.debug(f'Selected subset: {random_subset}')\n",
    "logger.debug(f'Image shape: {image.shape}')\n",
    "logger.debug(f'Mask shape: {mask.shape}')"
   ]
  },
  {
   "metadata": {},
   "cell_type": "markdown",
   "source": [
    "### Dataset and data generator\n",
    "\n",
    "We define the dataset and data generator that will be used for training the model. To define the dataset and data generator, we can use the `NepalDataset` and `NepalDataGenerator` classes from the `dataset` module. This code takes a dataset and generates batches of data for training a deep learning model."
   ]
  },
  {
   "metadata": {
    "ExecuteTime": {
     "end_time": "2025-02-11T02:46:09.965275Z",
     "start_time": "2025-02-11T02:46:09.848310Z"
    }
   },
   "cell_type": "code",
   "source": [
    "dataset_split_dir = os.path.join(patch_output_dir, \"dataset_split\")\n",
    "data_path = dataset_split_dir  # Base path to the split dataset directories\n",
    "in_channels = 4\n",
    "num_classes = 3\n",
    "batch_size = 5\n",
    "shuffle = True\n",
    "\n",
    "transform = transforms.Compose([\n",
    "    transforms.ToTensor(),\n",
    "])\n",
    "\n",
    "# Create datasets for train, val, and test splits\n",
    "train_dataset = NepalDataset(data_path, split=\"train\", transform=transform)\n",
    "val_dataset = NepalDataset(data_path, split=\"val\", transform=transform)\n",
    "test_dataset = NepalDataset(data_path, split=\"test\", transform=transform)\n",
    "\n",
    "# Print dataset sizes\n",
    "logger.debug(f\"Train dataset size: {len(train_dataset)}\")\n",
    "logger.debug(f\"Validation dataset size: {len(val_dataset)}\")\n",
    "logger.debug(f\"Test dataset size: {len(test_dataset)}\")\n",
    "\n",
    "# Create data generators for each dataset\n",
    "train_data_generator = NepalDataGenerator(train_dataset, batch_size=batch_size, shuffle=shuffle)\n",
    "val_data_generator = NepalDataGenerator(val_dataset, batch_size=batch_size, shuffle=shuffle)\n",
    "test_data_generator = NepalDataGenerator(test_dataset, batch_size=batch_size, shuffle=False)  # Do not shuffle test data\n",
    "\n",
    "# Print data generator sizes\n",
    "logger.debug(f\"Train data generator size: {len(train_data_generator)}\")\n",
    "logger.debug(f\"Validation data generator size: {len(val_data_generator)}\")\n",
    "logger.debug(f\"Test data generator size: {len(test_data_generator)}\")\n"
   ],
   "outputs": [
    {
     "name": "stdout",
     "output_type": "stream",
     "text": [
      "\u001B[94m2025-02-11 08:31:09,962 - .\\logs - DEBUG - Train dataset size: 8210 [in C:\\Users\\KUAI 01\\AppData\\Local\\Temp\\ipykernel_8828\\329300381.py:18]\u001B[0m\n",
      "\u001B[94m2025-02-11 08:31:09,962 - .\\logs - DEBUG - Validation dataset size: 2737 [in C:\\Users\\KUAI 01\\AppData\\Local\\Temp\\ipykernel_8828\\329300381.py:19]\u001B[0m\n",
      "\u001B[94m2025-02-11 08:31:09,962 - .\\logs - DEBUG - Test dataset size: 2737 [in C:\\Users\\KUAI 01\\AppData\\Local\\Temp\\ipykernel_8828\\329300381.py:20]\u001B[0m\n",
      "\u001B[94m2025-02-11 08:31:09,963 - .\\logs - DEBUG - Train data generator size: 1642 [in C:\\Users\\KUAI 01\\AppData\\Local\\Temp\\ipykernel_8828\\329300381.py:28]\u001B[0m\n",
      "\u001B[94m2025-02-11 08:31:09,963 - .\\logs - DEBUG - Validation data generator size: 548 [in C:\\Users\\KUAI 01\\AppData\\Local\\Temp\\ipykernel_8828\\329300381.py:29]\u001B[0m\n",
      "\u001B[94m2025-02-11 08:31:09,963 - .\\logs - DEBUG - Test data generator size: 548 [in C:\\Users\\KUAI 01\\AppData\\Local\\Temp\\ipykernel_8828\\329300381.py:30]\u001B[0m\n"
     ]
    }
   ],
   "execution_count": 6
  },
  {
   "metadata": {},
   "cell_type": "markdown",
   "source": [
    "### Visualize data generator output image and mask patches\n",
    "\n",
    "This code visualizes the patches and patch masks that were created using the data generator. To visualize the patches and patch masks, we can use the `visualize()` function from `utils` module."
   ]
  },
  {
   "metadata": {},
   "cell_type": "code",
   "outputs": [],
   "execution_count": null,
   "source": [
    "no_of_images_to_show = 3  # Number of images to show from the batch\n",
    "\n",
    "# Select the data_generator to visualize (train/validation/test)\n",
    "selected_data_generator = train_data_generator  # Change to val_data_generator or test_data_generator as needed\n",
    "\n",
    "# Get the batch of images and masks\n",
    "images, masks = selected_data_generator.__next__()\n",
    "\n",
    "if no_of_images_to_show > batch_size:\n",
    "    no_of_images_to_show = batch_size\n",
    "\n",
    "# Visualize the specified number of images and masks from the batch\n",
    "for i in range(0, no_of_images_to_show):\n",
    "    image = images[i].permute(1, 2, 0).numpy()  # Access individual image and convert to numpy array\n",
    "    mask = masks[i].squeeze().numpy()  # Access individual mask and convert to numpy array\n",
    "    visualize(image, mask)\n"
   ]
  },
  {
   "metadata": {},
   "cell_type": "markdown",
   "source": "## Training"
  },
  {
   "metadata": {},
   "cell_type": "markdown",
   "source": "### Model Definition\n"
  },
  {
   "metadata": {
    "ExecuteTime": {
     "end_time": "2025-02-11T02:46:17.200509Z",
     "start_time": "2025-02-11T02:46:16.807576Z"
    }
   },
   "cell_type": "code",
   "source": [
    "from torchvision.models.segmentation import deeplabv3_resnet50,DeepLabV3_ResNet50_Weights,deeplabv3_mobilenet_v3_large,DeepLabV3_MobileNet_V3_Large_Weights\n",
    "\n",
    "\n",
    "# Load the DeepLabV3 model\n",
    "model = deeplabv3_mobilenet_v3_large(weights=DeepLabV3_MobileNet_V3_Large_Weights.COCO_WITH_VOC_LABELS_V1)\n",
    "\n",
    "# Modify the classifier for the number of classes\n",
    "num_classes = 2\n",
    "model.classifier[4] = nn.Conv2d(256, num_classes, kernel_size=(1, 1))\n",
    "\n",
    "# Move the model to GPU if available\n",
    "device = torch.device(\"cuda\" if torch.cuda.is_available() else \"cpu\")\n",
    "model = model.to(device)"
   ],
   "outputs": [],
   "execution_count": 7
  },
  {
   "metadata": {
    "ExecuteTime": {
     "end_time": "2025-02-11T02:46:19.118283Z",
     "start_time": "2025-02-11T02:46:19.023922Z"
    }
   },
   "cell_type": "code",
   "source": [
    "# Define CrossEntropyLoss for segmentation\n",
    "criterion = nn.CrossEntropyLoss()\n",
    "\n",
    "# Define optimizer (e.g., Adam)\n",
    "optimizer = optim.Adam(model.parameters(), lr=1e-4)"
   ],
   "outputs": [],
   "execution_count": 8
  },
  {
   "metadata": {
    "ExecuteTime": {
     "end_time": "2025-02-11T02:46:20.582230Z",
     "start_time": "2025-02-11T02:46:20.485756Z"
    }
   },
   "cell_type": "code",
   "source": [
    "def train_model(model, train_data_generator, val_data_generator, criterion, optimizer, num_epochs):\n",
    "    # Train and validate the model\n",
    "    for epoch in range(num_epochs):\n",
    "        print(f\"Epoch {epoch + 1}/{num_epochs}\")\n",
    "        print(\"-\" * 50)\n",
    "\n",
    "        # Training phase\n",
    "        model.train()\n",
    "        train_loss = 0.0\n",
    "\n",
    "        for images, masks in train_data_generator:\n",
    "            images = images.to(device)\n",
    "            masks = masks.long().to(device)  # Ensure masks are of integer type for classification\n",
    "\n",
    "            # Forward pass\n",
    "            outputs = model(images)['out']\n",
    "            loss = criterion(outputs, masks)\n",
    "\n",
    "            # Backward pass and optimization\n",
    "            optimizer.zero_grad()\n",
    "            loss.backward()\n",
    "            optimizer.step()\n",
    "\n",
    "            train_loss += loss.item()\n",
    "\n",
    "        avg_train_loss = train_loss / len(train_data_generator)\n",
    "        print(f\"Training Loss: {avg_train_loss:.4f}\")\n",
    "\n",
    "        # Validation phase\n",
    "        model.eval()\n",
    "        val_loss = 0.0\n",
    "\n",
    "        with torch.no_grad():\n",
    "            for images, masks in val_data_generator:\n",
    "                images = images.to(device)\n",
    "                masks = masks.long().to(device)\n",
    "\n",
    "                # Forward pass\n",
    "                outputs = model(images)['out']\n",
    "                loss = criterion(outputs, masks)\n",
    "                val_loss += loss.item()\n",
    "\n",
    "        avg_val_loss = val_loss / len(val_data_generator)\n",
    "        print(f\"Validation Loss: {avg_val_loss:.4f}\")\n",
    "\n",
    "    print(\"Training complete!\")\n",
    "    return model"
   ],
   "outputs": [],
   "execution_count": 9
  },
  {
   "metadata": {
    "ExecuteTime": {
     "end_time": "2025-02-11T02:46:24.756483Z",
     "start_time": "2025-02-11T02:46:22.117575Z"
    }
   },
   "cell_type": "code",
   "source": [
    "from utils import calculate_metrics\n",
    "import mlflow\n",
    "import mlflow.pytorch\n",
    "import os\n",
    "\n",
    "def save_model(model, output_dir, model_name, model_type, logger):\n",
    "    \"\"\"\n",
    "    Save the model to the output directory with specific naming.\n",
    "\n",
    "    Parameters:\n",
    "        model (torch.nn.Module): Trained model to save\n",
    "        output_dir (str): Directory where the model should be saved\n",
    "        model_name (str): Name of the model\n",
    "        model_type (str): Type of the model ('best' or 'last')\n",
    "        logger (logging.Logger): Logger instance to log messages\n",
    "    \"\"\"\n",
    "    os.makedirs(output_dir, exist_ok=True)  # Ensure the models directory exists\n",
    "    model_path = os.path.join(output_dir, f\"{model_name}_{model_type}.pth\")\n",
    "    torch.save(model.state_dict(), model_path)\n",
    "    logger.info(f\"Model ({model_type}) saved as {model_path}.\")\n",
    "    return model_path\n",
    "\n",
    "def train_model_with_mlflow(\n",
    "        model, train_data_generator, val_data_generator, criterion, optimizer, num_epochs, num_classes, model_name, output_dir, logger\n",
    "):\n",
    "    mlflow.start_run()  # Start the MLflow run\n",
    "\n",
    "    # Log model parameters\n",
    "    mlflow.log_param(\"epochs\", num_epochs)\n",
    "    mlflow.log_param(\"learning_rate\", optimizer.param_groups[0][\"lr\"])\n",
    "    mlflow.log_param(\"batch_size\", train_data_generator.batch_size)\n",
    "\n",
    "    best_val_loss = float('inf')  # Track the best validation loss\n",
    "    models_dir = os.path.join(output_dir, \"models\")  # Directory to save models\n",
    "    last_epoch_model_path = None  # Path for the last epoch model\n",
    "\n",
    "    for epoch in range(num_epochs):\n",
    "        print(f\"Epoch {epoch + 1}/{num_epochs}\")\n",
    "        print(\"-\" * 50)\n",
    "\n",
    "        # Training phase\n",
    "        model.train()\n",
    "        train_loss = 0.0\n",
    "        train_metrics = {\"IoU\": [], \"F1-Score\": [], \"Pixel Accuracy\": 0.0}\n",
    "\n",
    "        for images, masks in train_data_generator:\n",
    "            images = images.to(device)\n",
    "            masks = masks.long().to(device)\n",
    "\n",
    "            # Forward pass\n",
    "            outputs = model(images)['out']\n",
    "            loss = criterion(outputs, masks)\n",
    "\n",
    "            # Backward pass and optimization\n",
    "            optimizer.zero_grad()\n",
    "            loss.backward()\n",
    "            optimizer.step()\n",
    "\n",
    "            train_loss += loss.item()\n",
    "\n",
    "            # Calculate metrics\n",
    "            batch_metrics = calculate_metrics(outputs, masks, num_classes)\n",
    "            for key in train_metrics.keys():\n",
    "                if isinstance(train_metrics[key], list):\n",
    "                    train_metrics[key].append(batch_metrics[key].mean())\n",
    "                else:\n",
    "                    train_metrics[key] += batch_metrics[key]\n",
    "\n",
    "        avg_train_loss = train_loss / len(train_data_generator)\n",
    "        avg_train_metrics = {k: (sum(v) / len(v) if isinstance(v, list) else v / len(train_data_generator))\n",
    "                             for k, v in train_metrics.items()}\n",
    "        mlflow.log_metrics(avg_train_metrics, step=epoch)  # Log training metrics\n",
    "        print(f\"Train Loss: {avg_train_loss:.4f}\")\n",
    "        print(f\"Train Metrics: {avg_train_metrics}\")\n",
    "\n",
    "        # Validation phase\n",
    "        model.eval()\n",
    "        val_loss = 0.0\n",
    "        val_metrics = {\"IoU\": [], \"F1-Score\": [], \"Pixel Accuracy\": 0.0}\n",
    "\n",
    "        with torch.no_grad():\n",
    "            for images, masks in val_data_generator:\n",
    "                images = images.to(device)\n",
    "                masks = masks.long().to(device)\n",
    "\n",
    "                # Forward pass\n",
    "                outputs = model(images)['out']\n",
    "                loss = criterion(outputs, masks)\n",
    "                val_loss += loss.item()\n",
    "\n",
    "                # Calculate metrics\n",
    "                batch_metrics = calculate_metrics(outputs, masks, num_classes)\n",
    "                for key in val_metrics.keys():\n",
    "                    if isinstance(val_metrics[key], list):\n",
    "                        val_metrics[key].append(batch_metrics[key].mean())\n",
    "                    else:\n",
    "                        val_metrics[key] += batch_metrics[key]\n",
    "\n",
    "        avg_val_loss = val_loss / len(val_data_generator)\n",
    "        avg_val_metrics = {k: (sum(v) / len(v) if isinstance(v, list) else v / len(val_data_generator))\n",
    "                           for k, v in val_metrics.items()}\n",
    "        mlflow.log_metrics(avg_val_metrics, step=epoch)  # Log validation metrics\n",
    "\n",
    "        print(f\"Val Loss: {avg_val_loss:.4f}\")\n",
    "        print(f\"Val Metrics: {avg_val_metrics}\")\n",
    "\n",
    "        # Log metrics to MLflow\n",
    "        mlflow.log_metric(\"train_loss\", avg_train_loss, step=epoch)\n",
    "        mlflow.log_metric(\"val_loss\", avg_val_loss, step=epoch)\n",
    "        for key in avg_train_metrics.keys():\n",
    "            mlflow.log_metric(f\"train_{key}\", avg_train_metrics[key], step=epoch)\n",
    "            mlflow.log_metric(f\"val_{key}\", avg_val_metrics[key], step=epoch)\n",
    "\n",
    "        # Save the best model based on validation loss\n",
    "        if avg_val_loss < best_val_loss:\n",
    "            best_val_loss = avg_val_loss\n",
    "            best_model_path = save_model(model, models_dir, model_name, \"best\", logger)\n",
    "            mlflow.log_artifact(best_model_path)\n",
    "            print(f\"Best model updated and saved as {best_model_path} with validation loss: {best_val_loss:.4f}\")\n",
    "\n",
    "        # Save the model from the current (last) epoch\n",
    "        last_epoch_model_path = save_model(model, models_dir, model_name, \"last\", logger)\n",
    "\n",
    "    # Save the final model to MLflow\n",
    "    mlflow.pytorch.log_model(model, \"model\")\n",
    "    mlflow.log_artifact(last_epoch_model_path)\n",
    "    print(f\"Final model from the last epoch saved as {last_epoch_model_path}\")\n",
    "\n",
    "    mlflow.end_run()\n",
    "    return model"
   ],
   "outputs": [],
   "execution_count": 10
  },
  {
   "metadata": {
    "ExecuteTime": {
     "end_time": "2025-02-11T16:51:12.411184Z",
     "start_time": "2025-02-11T02:46:25.534679Z"
    }
   },
   "cell_type": "code",
   "source": [
    "model_name = \"deeplabv3 - mobilenet_v3_large - 100epochs\"\n",
    "mlflow.set_experiment(f\"Satellite Segmentation of Nepal - {model_name}\")\n",
    "num_epochs = 100\n",
    "num_classes=2\n",
    "trained_model = train_model_with_mlflow(\n",
    "    model=model,\n",
    "    train_data_generator=train_data_generator,\n",
    "    val_data_generator=val_data_generator,\n",
    "    criterion=criterion,\n",
    "    optimizer=optimizer,\n",
    "    num_epochs=num_epochs,\n",
    "    num_classes=num_classes,\n",
    "    model_name=model_name,\n",
    "    output_dir=output_dir,\n",
    "    logger=logger\n",
    ")"
   ],
   "outputs": [
    {
     "name": "stdout",
     "output_type": "stream",
     "text": [
      "Epoch 1/100\n",
      "--------------------------------------------------\n",
      "Train Loss: 0.0800\n",
      "Train Metrics: {'IoU': 0.742851908353864, 'F1-Score': 0.5359148218746815, 'Pixel Accuracy': 0.9589511837819353}\n"
     ]
    },
    {
     "name": "stderr",
     "output_type": "stream",
     "text": [
      "INFO:.\\logs:Model (best) saved as .\\output\\models\\deeplabv3 - mobilenet_v3_large - 100epochs_best.pth.\n"
     ]
    },
    {
     "name": "stdout",
     "output_type": "stream",
     "text": [
      "Val Loss: 0.0233\n",
      "Val Metrics: {'IoU': 0.793338004744401, 'F1-Score': 0.5593223687614838, 'Pixel Accuracy': 0.9847385662533071}\n",
      "\u001B[92m2025-02-11 08:39:54,439 - .\\logs - INFO - Model (best) saved as .\\output\\models\\deeplabv3 - mobilenet_v3_large - 100epochs_best.pth. [in C:\\Users\\KUAI 01\\AppData\\Local\\Temp\\ipykernel_8828\\3590294615.py:20]\u001B[0m\n"
     ]
    },
    {
     "name": "stderr",
     "output_type": "stream",
     "text": [
      "INFO:.\\logs:Model (last) saved as .\\output\\models\\deeplabv3 - mobilenet_v3_large - 100epochs_last.pth.\n"
     ]
    },
    {
     "name": "stdout",
     "output_type": "stream",
     "text": [
      "Best model updated and saved as .\\output\\models\\deeplabv3 - mobilenet_v3_large - 100epochs_best.pth with validation loss: 0.0233\n",
      "\u001B[92m2025-02-11 08:39:54,720 - .\\logs - INFO - Model (last) saved as .\\output\\models\\deeplabv3 - mobilenet_v3_large - 100epochs_last.pth. [in C:\\Users\\KUAI 01\\AppData\\Local\\Temp\\ipykernel_8828\\3590294615.py:20]\u001B[0m\n",
      "Epoch 2/100\n",
      "--------------------------------------------------\n",
      "Train Loss: 0.0193\n",
      "Train Metrics: {'IoU': 0.8000250072122056, 'F1-Score': 0.5604520990591537, 'Pixel Accuracy': 0.9866793362580322}\n"
     ]
    },
    {
     "name": "stderr",
     "output_type": "stream",
     "text": [
      "INFO:.\\logs:Model (best) saved as .\\output\\models\\deeplabv3 - mobilenet_v3_large - 100epochs_best.pth.\n",
      "INFO:.\\logs:Model (last) saved as .\\output\\models\\deeplabv3 - mobilenet_v3_large - 100epochs_last.pth.\n"
     ]
    },
    {
     "name": "stdout",
     "output_type": "stream",
     "text": [
      "Val Loss: 0.0172\n",
      "Val Metrics: {'IoU': 0.8065704924673059, 'F1-Score': 0.5635778604850282, 'Pixel Accuracy': 0.9876817816147839}\n",
      "\u001B[92m2025-02-11 08:48:24,572 - .\\logs - INFO - Model (best) saved as .\\output\\models\\deeplabv3 - mobilenet_v3_large - 100epochs_best.pth. [in C:\\Users\\KUAI 01\\AppData\\Local\\Temp\\ipykernel_8828\\3590294615.py:20]\u001B[0m\n",
      "Best model updated and saved as .\\output\\models\\deeplabv3 - mobilenet_v3_large - 100epochs_best.pth with validation loss: 0.0172\n",
      "\u001B[92m2025-02-11 08:48:24,638 - .\\logs - INFO - Model (last) saved as .\\output\\models\\deeplabv3 - mobilenet_v3_large - 100epochs_last.pth. [in C:\\Users\\KUAI 01\\AppData\\Local\\Temp\\ipykernel_8828\\3590294615.py:20]\u001B[0m\n",
      "Epoch 3/100\n",
      "--------------------------------------------------\n",
      "Train Loss: 0.0133\n",
      "Train Metrics: {'IoU': 0.8159266794134435, 'F1-Score': 0.5662812489321984, 'Pixel Accuracy': 0.9901242448554696}\n"
     ]
    },
    {
     "name": "stderr",
     "output_type": "stream",
     "text": [
      "INFO:.\\logs:Model (best) saved as .\\output\\models\\deeplabv3 - mobilenet_v3_large - 100epochs_best.pth.\n"
     ]
    },
    {
     "name": "stdout",
     "output_type": "stream",
     "text": [
      "Val Loss: 0.0146\n",
      "Val Metrics: {'IoU': 0.8159379579507522, 'F1-Score': 0.566194842821055, 'Pixel Accuracy': 0.9898816664723584}\n",
      "\u001B[92m2025-02-11 08:56:44,800 - .\\logs - INFO - Model (best) saved as .\\output\\models\\deeplabv3 - mobilenet_v3_large - 100epochs_best.pth. [in C:\\Users\\KUAI 01\\AppData\\Local\\Temp\\ipykernel_8828\\3590294615.py:20]\u001B[0m\n"
     ]
    },
    {
     "name": "stderr",
     "output_type": "stream",
     "text": [
      "INFO:.\\logs:Model (last) saved as .\\output\\models\\deeplabv3 - mobilenet_v3_large - 100epochs_last.pth.\n"
     ]
    },
    {
     "name": "stdout",
     "output_type": "stream",
     "text": [
      "Best model updated and saved as .\\output\\models\\deeplabv3 - mobilenet_v3_large - 100epochs_best.pth with validation loss: 0.0146\n",
      "\u001B[92m2025-02-11 08:56:45,042 - .\\logs - INFO - Model (last) saved as .\\output\\models\\deeplabv3 - mobilenet_v3_large - 100epochs_last.pth. [in C:\\Users\\KUAI 01\\AppData\\Local\\Temp\\ipykernel_8828\\3590294615.py:20]\u001B[0m\n",
      "Epoch 4/100\n",
      "--------------------------------------------------\n",
      "Train Loss: 0.0099\n",
      "Train Metrics: {'IoU': 0.828837754973976, 'F1-Score': 0.5708226186385544, 'Pixel Accuracy': 0.9923812038425116}\n"
     ]
    },
    {
     "name": "stderr",
     "output_type": "stream",
     "text": [
      "INFO:.\\logs:Model (best) saved as .\\output\\models\\deeplabv3 - mobilenet_v3_large - 100epochs_best.pth.\n",
      "INFO:.\\logs:Model (last) saved as .\\output\\models\\deeplabv3 - mobilenet_v3_large - 100epochs_last.pth.\n"
     ]
    },
    {
     "name": "stdout",
     "output_type": "stream",
     "text": [
      "Val Loss: 0.0136\n",
      "Val Metrics: {'IoU': 0.820652524539589, 'F1-Score': 0.5678793539422272, 'Pixel Accuracy': 0.9908859962529509}\n",
      "\u001B[92m2025-02-11 09:05:06,023 - .\\logs - INFO - Model (best) saved as .\\output\\models\\deeplabv3 - mobilenet_v3_large - 100epochs_best.pth. [in C:\\Users\\KUAI 01\\AppData\\Local\\Temp\\ipykernel_8828\\3590294615.py:20]\u001B[0m\n",
      "Best model updated and saved as .\\output\\models\\deeplabv3 - mobilenet_v3_large - 100epochs_best.pth with validation loss: 0.0136\n",
      "\u001B[92m2025-02-11 09:05:06,100 - .\\logs - INFO - Model (last) saved as .\\output\\models\\deeplabv3 - mobilenet_v3_large - 100epochs_last.pth. [in C:\\Users\\KUAI 01\\AppData\\Local\\Temp\\ipykernel_8828\\3590294615.py:20]\u001B[0m\n",
      "Epoch 5/100\n",
      "--------------------------------------------------\n",
      "Train Loss: 0.0105\n",
      "Train Metrics: {'IoU': 0.827006587030391, 'F1-Score': 0.5697319982766234, 'Pixel Accuracy': 0.991946985457324}\n"
     ]
    },
    {
     "name": "stderr",
     "output_type": "stream",
     "text": [
      "INFO:.\\logs:Model (best) saved as .\\output\\models\\deeplabv3 - mobilenet_v3_large - 100epochs_best.pth.\n"
     ]
    },
    {
     "name": "stdout",
     "output_type": "stream",
     "text": [
      "Val Loss: 0.0128\n",
      "Val Metrics: {'IoU': 0.821802053790893, 'F1-Score': 0.5682937214083045, 'Pixel Accuracy': 0.9906745055948731}\n",
      "\u001B[92m2025-02-11 09:13:32,721 - .\\logs - INFO - Model (best) saved as .\\output\\models\\deeplabv3 - mobilenet_v3_large - 100epochs_best.pth. [in C:\\Users\\KUAI 01\\AppData\\Local\\Temp\\ipykernel_8828\\3590294615.py:20]\u001B[0m\n"
     ]
    },
    {
     "name": "stderr",
     "output_type": "stream",
     "text": [
      "INFO:.\\logs:Model (last) saved as .\\output\\models\\deeplabv3 - mobilenet_v3_large - 100epochs_last.pth.\n"
     ]
    },
    {
     "name": "stdout",
     "output_type": "stream",
     "text": [
      "Best model updated and saved as .\\output\\models\\deeplabv3 - mobilenet_v3_large - 100epochs_best.pth with validation loss: 0.0128\n",
      "\u001B[92m2025-02-11 09:13:32,972 - .\\logs - INFO - Model (last) saved as .\\output\\models\\deeplabv3 - mobilenet_v3_large - 100epochs_last.pth. [in C:\\Users\\KUAI 01\\AppData\\Local\\Temp\\ipykernel_8828\\3590294615.py:20]\u001B[0m\n",
      "Epoch 6/100\n",
      "--------------------------------------------------\n",
      "Train Loss: 0.0088\n",
      "Train Metrics: {'IoU': 0.8339647968525428, 'F1-Score': 0.572209139816218, 'Pixel Accuracy': 0.9932083953603031}\n"
     ]
    },
    {
     "name": "stderr",
     "output_type": "stream",
     "text": [
      "INFO:.\\logs:Model (best) saved as .\\output\\models\\deeplabv3 - mobilenet_v3_large - 100epochs_best.pth.\n",
      "INFO:.\\logs:Model (last) saved as .\\output\\models\\deeplabv3 - mobilenet_v3_large - 100epochs_last.pth.\n"
     ]
    },
    {
     "name": "stdout",
     "output_type": "stream",
     "text": [
      "Val Loss: 0.0116\n",
      "Val Metrics: {'IoU': 0.8256809440081136, 'F1-Score': 0.569104022353235, 'Pixel Accuracy': 0.9917673202109163}\n",
      "\u001B[92m2025-02-11 09:21:59,924 - .\\logs - INFO - Model (best) saved as .\\output\\models\\deeplabv3 - mobilenet_v3_large - 100epochs_best.pth. [in C:\\Users\\KUAI 01\\AppData\\Local\\Temp\\ipykernel_8828\\3590294615.py:20]\u001B[0m\n",
      "Best model updated and saved as .\\output\\models\\deeplabv3 - mobilenet_v3_large - 100epochs_best.pth with validation loss: 0.0116\n",
      "\u001B[92m2025-02-11 09:22:00,012 - .\\logs - INFO - Model (last) saved as .\\output\\models\\deeplabv3 - mobilenet_v3_large - 100epochs_last.pth. [in C:\\Users\\KUAI 01\\AppData\\Local\\Temp\\ipykernel_8828\\3590294615.py:20]\u001B[0m\n",
      "Epoch 7/100\n",
      "--------------------------------------------------\n",
      "Train Loss: 0.0066\n",
      "Train Metrics: {'IoU': 0.8429637516278152, 'F1-Score': 0.5756178972164984, 'Pixel Accuracy': 0.9946773734293088}\n"
     ]
    },
    {
     "name": "stderr",
     "output_type": "stream",
     "text": [
      "INFO:.\\logs:Model (last) saved as .\\output\\models\\deeplabv3 - mobilenet_v3_large - 100epochs_last.pth.\n"
     ]
    },
    {
     "name": "stdout",
     "output_type": "stream",
     "text": [
      "Val Loss: 0.0118\n",
      "Val Metrics: {'IoU': 0.8284097101240262, 'F1-Score': 0.5701804955619095, 'Pixel Accuracy': 0.9924162690439363}\n",
      "\u001B[92m2025-02-11 09:30:22,867 - .\\logs - INFO - Model (last) saved as .\\output\\models\\deeplabv3 - mobilenet_v3_large - 100epochs_last.pth. [in C:\\Users\\KUAI 01\\AppData\\Local\\Temp\\ipykernel_8828\\3590294615.py:20]\u001B[0m\n",
      "Epoch 8/100\n",
      "--------------------------------------------------\n",
      "Train Loss: 0.0064\n",
      "Train Metrics: {'IoU': 0.8440767479436552, 'F1-Score': 0.5758641465463824, 'Pixel Accuracy': 0.9948469935831286}\n"
     ]
    },
    {
     "name": "stderr",
     "output_type": "stream",
     "text": [
      "INFO:.\\logs:Model (last) saved as .\\output\\models\\deeplabv3 - mobilenet_v3_large - 100epochs_last.pth.\n"
     ]
    },
    {
     "name": "stdout",
     "output_type": "stream",
     "text": [
      "Val Loss: 0.0142\n",
      "Val Metrics: {'IoU': 0.8243552258741247, 'F1-Score': 0.569296831795334, 'Pixel Accuracy': 0.9912178941669255}\n",
      "\u001B[92m2025-02-11 09:38:48,000 - .\\logs - INFO - Model (last) saved as .\\output\\models\\deeplabv3 - mobilenet_v3_large - 100epochs_last.pth. [in C:\\Users\\KUAI 01\\AppData\\Local\\Temp\\ipykernel_8828\\3590294615.py:20]\u001B[0m\n",
      "Epoch 9/100\n",
      "--------------------------------------------------\n",
      "Train Loss: 0.0078\n",
      "Train Metrics: {'IoU': 0.8385477592571935, 'F1-Score': 0.5735069263032235, 'Pixel Accuracy': 0.9939997279324572}\n"
     ]
    },
    {
     "name": "stderr",
     "output_type": "stream",
     "text": [
      "INFO:.\\logs:Model (best) saved as .\\output\\models\\deeplabv3 - mobilenet_v3_large - 100epochs_best.pth.\n"
     ]
    },
    {
     "name": "stdout",
     "output_type": "stream",
     "text": [
      "Val Loss: 0.0114\n",
      "Val Metrics: {'IoU': 0.8277729982442229, 'F1-Score': 0.5692954698074473, 'Pixel Accuracy': 0.9924464539019731}\n",
      "\u001B[92m2025-02-11 09:47:07,694 - .\\logs - INFO - Model (best) saved as .\\output\\models\\deeplabv3 - mobilenet_v3_large - 100epochs_best.pth. [in C:\\Users\\KUAI 01\\AppData\\Local\\Temp\\ipykernel_8828\\3590294615.py:20]\u001B[0m\n"
     ]
    },
    {
     "name": "stderr",
     "output_type": "stream",
     "text": [
      "INFO:.\\logs:Model (last) saved as .\\output\\models\\deeplabv3 - mobilenet_v3_large - 100epochs_last.pth.\n"
     ]
    },
    {
     "name": "stdout",
     "output_type": "stream",
     "text": [
      "Best model updated and saved as .\\output\\models\\deeplabv3 - mobilenet_v3_large - 100epochs_best.pth with validation loss: 0.0114\n",
      "\u001B[92m2025-02-11 09:47:07,931 - .\\logs - INFO - Model (last) saved as .\\output\\models\\deeplabv3 - mobilenet_v3_large - 100epochs_last.pth. [in C:\\Users\\KUAI 01\\AppData\\Local\\Temp\\ipykernel_8828\\3590294615.py:20]\u001B[0m\n",
      "Epoch 10/100\n",
      "--------------------------------------------------\n",
      "Train Loss: 0.0056\n",
      "Train Metrics: {'IoU': 0.8478218019371637, 'F1-Score': 0.5770121211873483, 'Pixel Accuracy': 0.9954523014746398}\n"
     ]
    },
    {
     "name": "stderr",
     "output_type": "stream",
     "text": [
      "INFO:.\\logs:Model (best) saved as .\\output\\models\\deeplabv3 - mobilenet_v3_large - 100epochs_best.pth.\n",
      "INFO:.\\logs:Model (last) saved as .\\output\\models\\deeplabv3 - mobilenet_v3_large - 100epochs_last.pth.\n"
     ]
    },
    {
     "name": "stdout",
     "output_type": "stream",
     "text": [
      "Val Loss: 0.0103\n",
      "Val Metrics: {'IoU': 0.8323689744855366, 'F1-Score': 0.5709402293619448, 'Pixel Accuracy': 0.9934362117608968}\n",
      "\u001B[92m2025-02-11 09:55:34,700 - .\\logs - INFO - Model (best) saved as .\\output\\models\\deeplabv3 - mobilenet_v3_large - 100epochs_best.pth. [in C:\\Users\\KUAI 01\\AppData\\Local\\Temp\\ipykernel_8828\\3590294615.py:20]\u001B[0m\n",
      "Best model updated and saved as .\\output\\models\\deeplabv3 - mobilenet_v3_large - 100epochs_best.pth with validation loss: 0.0103\n",
      "\u001B[92m2025-02-11 09:55:34,771 - .\\logs - INFO - Model (last) saved as .\\output\\models\\deeplabv3 - mobilenet_v3_large - 100epochs_last.pth. [in C:\\Users\\KUAI 01\\AppData\\Local\\Temp\\ipykernel_8828\\3590294615.py:20]\u001B[0m\n",
      "Epoch 11/100\n",
      "--------------------------------------------------\n",
      "Train Loss: 0.0049\n",
      "Train Metrics: {'IoU': 0.850791955382612, 'F1-Score': 0.5778941066888015, 'Pixel Accuracy': 0.9959337228180866}\n"
     ]
    },
    {
     "name": "stderr",
     "output_type": "stream",
     "text": [
      "INFO:.\\logs:Model (last) saved as .\\output\\models\\deeplabv3 - mobilenet_v3_large - 100epochs_last.pth.\n"
     ]
    },
    {
     "name": "stdout",
     "output_type": "stream",
     "text": [
      "Val Loss: 0.0113\n",
      "Val Metrics: {'IoU': 0.8320693368241735, 'F1-Score': 0.5709459707140923, 'Pixel Accuracy': 0.9931525681575719}\n",
      "\u001B[92m2025-02-11 10:04:00,144 - .\\logs - INFO - Model (last) saved as .\\output\\models\\deeplabv3 - mobilenet_v3_large - 100epochs_last.pth. [in C:\\Users\\KUAI 01\\AppData\\Local\\Temp\\ipykernel_8828\\3590294615.py:20]\u001B[0m\n",
      "Epoch 12/100\n",
      "--------------------------------------------------\n",
      "Train Loss: 0.0055\n",
      "Train Metrics: {'IoU': 0.8481007889003904, 'F1-Score': 0.5770732692911331, 'Pixel Accuracy': 0.99555293992434}\n"
     ]
    },
    {
     "name": "stderr",
     "output_type": "stream",
     "text": [
      "INFO:.\\logs:Model (last) saved as .\\output\\models\\deeplabv3 - mobilenet_v3_large - 100epochs_last.pth.\n"
     ]
    },
    {
     "name": "stdout",
     "output_type": "stream",
     "text": [
      "Val Loss: 0.0156\n",
      "Val Metrics: {'IoU': 0.8118209005707372, 'F1-Score': 0.5643134563073625, 'Pixel Accuracy': 0.9889327804320049}\n",
      "\u001B[92m2025-02-11 10:12:23,868 - .\\logs - INFO - Model (last) saved as .\\output\\models\\deeplabv3 - mobilenet_v3_large - 100epochs_last.pth. [in C:\\Users\\KUAI 01\\AppData\\Local\\Temp\\ipykernel_8828\\3590294615.py:20]\u001B[0m\n",
      "Epoch 13/100\n",
      "--------------------------------------------------\n",
      "Train Loss: 0.0058\n",
      "Train Metrics: {'IoU': 0.8473567718165801, 'F1-Score': 0.576886450946694, 'Pixel Accuracy': 0.9953533846989329}\n"
     ]
    },
    {
     "name": "stderr",
     "output_type": "stream",
     "text": [
      "INFO:.\\logs:Model (last) saved as .\\output\\models\\deeplabv3 - mobilenet_v3_large - 100epochs_last.pth.\n"
     ]
    },
    {
     "name": "stdout",
     "output_type": "stream",
     "text": [
      "Val Loss: 0.0107\n",
      "Val Metrics: {'IoU': 0.833172536407509, 'F1-Score': 0.5712947717113216, 'Pixel Accuracy': 0.9932898424402641}\n",
      "\u001B[92m2025-02-11 10:20:51,945 - .\\logs - INFO - Model (last) saved as .\\output\\models\\deeplabv3 - mobilenet_v3_large - 100epochs_last.pth. [in C:\\Users\\KUAI 01\\AppData\\Local\\Temp\\ipykernel_8828\\3590294615.py:20]\u001B[0m\n",
      "Epoch 14/100\n",
      "--------------------------------------------------\n",
      "Train Loss: 0.0043\n",
      "Train Metrics: {'IoU': 0.8541268066352236, 'F1-Score': 0.5789300477570071, 'Pixel Accuracy': 0.9964514340610946}\n"
     ]
    },
    {
     "name": "stderr",
     "output_type": "stream",
     "text": [
      "INFO:.\\logs:Model (last) saved as .\\output\\models\\deeplabv3 - mobilenet_v3_large - 100epochs_last.pth.\n"
     ]
    },
    {
     "name": "stdout",
     "output_type": "stream",
     "text": [
      "Val Loss: 0.0112\n",
      "Val Metrics: {'IoU': 0.8349658174671396, 'F1-Score': 0.5715353100621787, 'Pixel Accuracy': 0.9937596131850334}\n",
      "\u001B[92m2025-02-11 10:29:10,757 - .\\logs - INFO - Model (last) saved as .\\output\\models\\deeplabv3 - mobilenet_v3_large - 100epochs_last.pth. [in C:\\Users\\KUAI 01\\AppData\\Local\\Temp\\ipykernel_8828\\3590294615.py:20]\u001B[0m\n",
      "Epoch 15/100\n",
      "--------------------------------------------------\n",
      "Train Loss: 0.0040\n",
      "Train Metrics: {'IoU': 0.8557840459021523, 'F1-Score': 0.579351204974933, 'Pixel Accuracy': 0.9967112311419558}\n"
     ]
    },
    {
     "name": "stderr",
     "output_type": "stream",
     "text": [
      "INFO:.\\logs:Model (last) saved as .\\output\\models\\deeplabv3 - mobilenet_v3_large - 100epochs_last.pth.\n"
     ]
    },
    {
     "name": "stdout",
     "output_type": "stream",
     "text": [
      "Val Loss: 0.0112\n",
      "Val Metrics: {'IoU': 0.8341568443026856, 'F1-Score': 0.5713218105209135, 'Pixel Accuracy': 0.993538714238327}\n",
      "\u001B[92m2025-02-11 10:37:41,622 - .\\logs - INFO - Model (last) saved as .\\output\\models\\deeplabv3 - mobilenet_v3_large - 100epochs_last.pth. [in C:\\Users\\KUAI 01\\AppData\\Local\\Temp\\ipykernel_8828\\3590294615.py:20]\u001B[0m\n",
      "Epoch 16/100\n",
      "--------------------------------------------------\n",
      "Train Loss: 0.0056\n",
      "Train Metrics: {'IoU': 0.847905359880933, 'F1-Score': 0.5769294978785312, 'Pixel Accuracy': 0.9955748747240176}\n"
     ]
    },
    {
     "name": "stderr",
     "output_type": "stream",
     "text": [
      "INFO:.\\logs:Model (last) saved as .\\output\\models\\deeplabv3 - mobilenet_v3_large - 100epochs_last.pth.\n"
     ]
    },
    {
     "name": "stdout",
     "output_type": "stream",
     "text": [
      "Val Loss: 0.0112\n",
      "Val Metrics: {'IoU': 0.8346858302498386, 'F1-Score': 0.5720730941661083, 'Pixel Accuracy': 0.9934242543947958}\n",
      "\u001B[92m2025-02-11 10:46:02,854 - .\\logs - INFO - Model (last) saved as .\\output\\models\\deeplabv3 - mobilenet_v3_large - 100epochs_last.pth. [in C:\\Users\\KUAI 01\\AppData\\Local\\Temp\\ipykernel_8828\\3590294615.py:20]\u001B[0m\n",
      "Epoch 17/100\n",
      "--------------------------------------------------\n",
      "Train Loss: 0.0040\n",
      "Train Metrics: {'IoU': 0.8555835509053392, 'F1-Score': 0.5793769977052087, 'Pixel Accuracy': 0.9967273037413297}\n"
     ]
    },
    {
     "name": "stderr",
     "output_type": "stream",
     "text": [
      "INFO:.\\logs:Model (last) saved as .\\output\\models\\deeplabv3 - mobilenet_v3_large - 100epochs_last.pth.\n"
     ]
    },
    {
     "name": "stdout",
     "output_type": "stream",
     "text": [
      "Val Loss: 0.0105\n",
      "Val Metrics: {'IoU': 0.8377359080379897, 'F1-Score': 0.5728010659235238, 'Pixel Accuracy': 0.9940208140080863}\n",
      "\u001B[92m2025-02-11 10:54:20,725 - .\\logs - INFO - Model (last) saved as .\\output\\models\\deeplabv3 - mobilenet_v3_large - 100epochs_last.pth. [in C:\\Users\\KUAI 01\\AppData\\Local\\Temp\\ipykernel_8828\\3590294615.py:20]\u001B[0m\n",
      "Epoch 18/100\n",
      "--------------------------------------------------\n",
      "Train Loss: 0.0034\n",
      "Train Metrics: {'IoU': 0.8584091590942041, 'F1-Score': 0.5799056708849014, 'Pixel Accuracy': 0.9971727470750495}\n"
     ]
    },
    {
     "name": "stderr",
     "output_type": "stream",
     "text": [
      "INFO:.\\logs:Model (last) saved as .\\output\\models\\deeplabv3 - mobilenet_v3_large - 100epochs_last.pth.\n"
     ]
    },
    {
     "name": "stdout",
     "output_type": "stream",
     "text": [
      "Val Loss: 0.0118\n",
      "Val Metrics: {'IoU': 0.8371842340396268, 'F1-Score': 0.571966713253599, 'Pixel Accuracy': 0.9942096290144607}\n",
      "\u001B[92m2025-02-11 11:02:49,997 - .\\logs - INFO - Model (last) saved as .\\output\\models\\deeplabv3 - mobilenet_v3_large - 100epochs_last.pth. [in C:\\Users\\KUAI 01\\AppData\\Local\\Temp\\ipykernel_8828\\3590294615.py:20]\u001B[0m\n",
      "Epoch 19/100\n",
      "--------------------------------------------------\n",
      "Train Loss: 0.0037\n",
      "Train Metrics: {'IoU': 0.8568949430055653, 'F1-Score': 0.5794953481361143, 'Pixel Accuracy': 0.9969574814156406}\n"
     ]
    },
    {
     "name": "stderr",
     "output_type": "stream",
     "text": [
      "INFO:.\\logs:Model (last) saved as .\\output\\models\\deeplabv3 - mobilenet_v3_large - 100epochs_last.pth.\n"
     ]
    },
    {
     "name": "stdout",
     "output_type": "stream",
     "text": [
      "Val Loss: 0.0123\n",
      "Val Metrics: {'IoU': 0.837409267949797, 'F1-Score': 0.5728645525927091, 'Pixel Accuracy': 0.9937322568284334}\n",
      "\u001B[92m2025-02-11 11:11:17,663 - .\\logs - INFO - Model (last) saved as .\\output\\models\\deeplabv3 - mobilenet_v3_large - 100epochs_last.pth. [in C:\\Users\\KUAI 01\\AppData\\Local\\Temp\\ipykernel_8828\\3590294615.py:20]\u001B[0m\n",
      "Epoch 20/100\n",
      "--------------------------------------------------\n",
      "Train Loss: 0.0054\n",
      "Train Metrics: {'IoU': 0.8501775683279305, 'F1-Score': 0.5775611436722775, 'Pixel Accuracy': 0.9957909968099699}\n"
     ]
    },
    {
     "name": "stderr",
     "output_type": "stream",
     "text": [
      "INFO:.\\logs:Model (best) saved as .\\output\\models\\deeplabv3 - mobilenet_v3_large - 100epochs_best.pth.\n"
     ]
    },
    {
     "name": "stdout",
     "output_type": "stream",
     "text": [
      "Val Loss: 0.0096\n",
      "Val Metrics: {'IoU': 0.8339308040746807, 'F1-Score': 0.5709825965174793, 'Pixel Accuracy': 0.993704557745126}\n",
      "\u001B[92m2025-02-11 11:19:44,039 - .\\logs - INFO - Model (best) saved as .\\output\\models\\deeplabv3 - mobilenet_v3_large - 100epochs_best.pth. [in C:\\Users\\KUAI 01\\AppData\\Local\\Temp\\ipykernel_8828\\3590294615.py:20]\u001B[0m\n"
     ]
    },
    {
     "name": "stderr",
     "output_type": "stream",
     "text": [
      "INFO:.\\logs:Model (last) saved as .\\output\\models\\deeplabv3 - mobilenet_v3_large - 100epochs_last.pth.\n"
     ]
    },
    {
     "name": "stdout",
     "output_type": "stream",
     "text": [
      "Best model updated and saved as .\\output\\models\\deeplabv3 - mobilenet_v3_large - 100epochs_best.pth with validation loss: 0.0096\n",
      "\u001B[92m2025-02-11 11:19:44,261 - .\\logs - INFO - Model (last) saved as .\\output\\models\\deeplabv3 - mobilenet_v3_large - 100epochs_last.pth. [in C:\\Users\\KUAI 01\\AppData\\Local\\Temp\\ipykernel_8828\\3590294615.py:20]\u001B[0m\n",
      "Epoch 21/100\n",
      "--------------------------------------------------\n",
      "Train Loss: 0.0044\n",
      "Train Metrics: {'IoU': 0.8543485155676227, 'F1-Score': 0.5787741635698058, 'Pixel Accuracy': 0.9964966186289375}\n"
     ]
    },
    {
     "name": "stderr",
     "output_type": "stream",
     "text": [
      "INFO:.\\logs:Model (last) saved as .\\output\\models\\deeplabv3 - mobilenet_v3_large - 100epochs_last.pth.\n"
     ]
    },
    {
     "name": "stdout",
     "output_type": "stream",
     "text": [
      "Val Loss: 0.0367\n",
      "Val Metrics: {'IoU': 0.7584625947540694, 'F1-Score': 0.5379326101528467, 'Pixel Accuracy': 0.9829751671883311}\n",
      "\u001B[92m2025-02-11 11:28:08,202 - .\\logs - INFO - Model (last) saved as .\\output\\models\\deeplabv3 - mobilenet_v3_large - 100epochs_last.pth. [in C:\\Users\\KUAI 01\\AppData\\Local\\Temp\\ipykernel_8828\\3590294615.py:20]\u001B[0m\n",
      "Epoch 22/100\n",
      "--------------------------------------------------\n",
      "Train Loss: 0.0036\n",
      "Train Metrics: {'IoU': 0.8576521570005893, 'F1-Score': 0.5799580094258184, 'Pixel Accuracy': 0.996987726707261}\n"
     ]
    },
    {
     "name": "stderr",
     "output_type": "stream",
     "text": [
      "INFO:.\\logs:Model (last) saved as .\\output\\models\\deeplabv3 - mobilenet_v3_large - 100epochs_last.pth.\n"
     ]
    },
    {
     "name": "stdout",
     "output_type": "stream",
     "text": [
      "Val Loss: 0.0106\n",
      "Val Metrics: {'IoU': 0.8395781639936196, 'F1-Score': 0.5731493819260249, 'Pixel Accuracy': 0.9944173905753741}\n",
      "\u001B[92m2025-02-11 11:36:32,650 - .\\logs - INFO - Model (last) saved as .\\output\\models\\deeplabv3 - mobilenet_v3_large - 100epochs_last.pth. [in C:\\Users\\KUAI 01\\AppData\\Local\\Temp\\ipykernel_8828\\3590294615.py:20]\u001B[0m\n",
      "Epoch 23/100\n",
      "--------------------------------------------------\n",
      "Train Loss: 0.0030\n",
      "Train Metrics: {'IoU': 0.8606261200249994, 'F1-Score': 0.5808519316467385, 'Pixel Accuracy': 0.9974798626934567}\n"
     ]
    },
    {
     "name": "stderr",
     "output_type": "stream",
     "text": [
      "INFO:.\\logs:Model (last) saved as .\\output\\models\\deeplabv3 - mobilenet_v3_large - 100epochs_last.pth.\n"
     ]
    },
    {
     "name": "stdout",
     "output_type": "stream",
     "text": [
      "Val Loss: 0.0117\n",
      "Val Metrics: {'IoU': 0.8400591798942455, 'F1-Score': 0.573246610588836, 'Pixel Accuracy': 0.9945038068686088}\n",
      "\u001B[92m2025-02-11 11:44:58,566 - .\\logs - INFO - Model (last) saved as .\\output\\models\\deeplabv3 - mobilenet_v3_large - 100epochs_last.pth. [in C:\\Users\\KUAI 01\\AppData\\Local\\Temp\\ipykernel_8828\\3590294615.py:20]\u001B[0m\n",
      "Epoch 24/100\n",
      "--------------------------------------------------\n",
      "Train Loss: 0.0029\n",
      "Train Metrics: {'IoU': 0.8613978829802026, 'F1-Score': 0.5809566338300415, 'Pixel Accuracy': 0.9975933453996056}\n"
     ]
    },
    {
     "name": "stderr",
     "output_type": "stream",
     "text": [
      "INFO:.\\logs:Model (last) saved as .\\output\\models\\deeplabv3 - mobilenet_v3_large - 100epochs_last.pth.\n"
     ]
    },
    {
     "name": "stdout",
     "output_type": "stream",
     "text": [
      "Val Loss: 0.0126\n",
      "Val Metrics: {'IoU': 0.8380375161875774, 'F1-Score': 0.5721283689902646, 'Pixel Accuracy': 0.9942474234713256}\n",
      "\u001B[92m2025-02-11 11:53:25,119 - .\\logs - INFO - Model (last) saved as .\\output\\models\\deeplabv3 - mobilenet_v3_large - 100epochs_last.pth. [in C:\\Users\\KUAI 01\\AppData\\Local\\Temp\\ipykernel_8828\\3590294615.py:20]\u001B[0m\n",
      "Epoch 25/100\n",
      "--------------------------------------------------\n",
      "Train Loss: 0.0034\n",
      "Train Metrics: {'IoU': 0.8589181802558841, 'F1-Score': 0.580232387447183, 'Pixel Accuracy': 0.9972152566575829}\n"
     ]
    },
    {
     "name": "stderr",
     "output_type": "stream",
     "text": [
      "INFO:.\\logs:Model (last) saved as .\\output\\models\\deeplabv3 - mobilenet_v3_large - 100epochs_last.pth.\n"
     ]
    },
    {
     "name": "stdout",
     "output_type": "stream",
     "text": [
      "Val Loss: 0.0113\n",
      "Val Metrics: {'IoU': 0.8405805478674652, 'F1-Score': 0.5732969536180914, 'Pixel Accuracy': 0.994421067355323}\n",
      "\u001B[92m2025-02-11 12:01:48,890 - .\\logs - INFO - Model (last) saved as .\\output\\models\\deeplabv3 - mobilenet_v3_large - 100epochs_last.pth. [in C:\\Users\\KUAI 01\\AppData\\Local\\Temp\\ipykernel_8828\\3590294615.py:20]\u001B[0m\n",
      "Epoch 26/100\n",
      "--------------------------------------------------\n",
      "Train Loss: 0.0030\n",
      "Train Metrics: {'IoU': 0.860540012603265, 'F1-Score': 0.5806636823189244, 'Pixel Accuracy': 0.9975071353395442}\n"
     ]
    },
    {
     "name": "stderr",
     "output_type": "stream",
     "text": [
      "INFO:.\\logs:Model (last) saved as .\\output\\models\\deeplabv3 - mobilenet_v3_large - 100epochs_last.pth.\n"
     ]
    },
    {
     "name": "stdout",
     "output_type": "stream",
     "text": [
      "Val Loss: 0.0122\n",
      "Val Metrics: {'IoU': 0.8389118172391488, 'F1-Score': 0.5723666979448638, 'Pixel Accuracy': 0.994269563225064}\n",
      "\u001B[92m2025-02-11 12:10:21,677 - .\\logs - INFO - Model (last) saved as .\\output\\models\\deeplabv3 - mobilenet_v3_large - 100epochs_last.pth. [in C:\\Users\\KUAI 01\\AppData\\Local\\Temp\\ipykernel_8828\\3590294615.py:20]\u001B[0m\n",
      "Epoch 27/100\n",
      "--------------------------------------------------\n",
      "Train Loss: 0.0028\n",
      "Train Metrics: {'IoU': 0.8617452136564197, 'F1-Score': 0.5810496646652268, 'Pixel Accuracy': 0.9976547761172528}\n"
     ]
    },
    {
     "name": "stderr",
     "output_type": "stream",
     "text": [
      "INFO:.\\logs:Model (last) saved as .\\output\\models\\deeplabv3 - mobilenet_v3_large - 100epochs_last.pth.\n"
     ]
    },
    {
     "name": "stdout",
     "output_type": "stream",
     "text": [
      "Val Loss: 0.0139\n",
      "Val Metrics: {'IoU': 0.8408012019783041, 'F1-Score': 0.5735497455092242, 'Pixel Accuracy': 0.9943262262500986}\n",
      "\u001B[92m2025-02-11 12:18:50,731 - .\\logs - INFO - Model (last) saved as .\\output\\models\\deeplabv3 - mobilenet_v3_large - 100epochs_last.pth. [in C:\\Users\\KUAI 01\\AppData\\Local\\Temp\\ipykernel_8828\\3590294615.py:20]\u001B[0m\n",
      "Epoch 28/100\n",
      "--------------------------------------------------\n",
      "Train Loss: 0.0041\n",
      "Train Metrics: {'IoU': 0.8569508484597619, 'F1-Score': 0.5797012756498083, 'Pixel Accuracy': 0.9968085367409524}\n"
     ]
    },
    {
     "name": "stderr",
     "output_type": "stream",
     "text": [
      "INFO:.\\logs:Model (last) saved as .\\output\\models\\deeplabv3 - mobilenet_v3_large - 100epochs_last.pth.\n"
     ]
    },
    {
     "name": "stdout",
     "output_type": "stream",
     "text": [
      "Val Loss: 0.0162\n",
      "Val Metrics: {'IoU': 0.8211140476004051, 'F1-Score': 0.5675099273994021, 'Pixel Accuracy': 0.9903647326422433}\n",
      "\u001B[92m2025-02-11 12:27:17,419 - .\\logs - INFO - Model (last) saved as .\\output\\models\\deeplabv3 - mobilenet_v3_large - 100epochs_last.pth. [in C:\\Users\\KUAI 01\\AppData\\Local\\Temp\\ipykernel_8828\\3590294615.py:20]\u001B[0m\n",
      "Epoch 29/100\n",
      "--------------------------------------------------\n",
      "Train Loss: 0.0039\n",
      "Train Metrics: {'IoU': 0.856349893939771, 'F1-Score': 0.5794676831048822, 'Pixel Accuracy': 0.9968241960645158}\n"
     ]
    },
    {
     "name": "stderr",
     "output_type": "stream",
     "text": [
      "INFO:.\\logs:Model (last) saved as .\\output\\models\\deeplabv3 - mobilenet_v3_large - 100epochs_last.pth.\n"
     ]
    },
    {
     "name": "stdout",
     "output_type": "stream",
     "text": [
      "Val Loss: 0.0104\n",
      "Val Metrics: {'IoU': 0.8417067036685282, 'F1-Score': 0.574153486448918, 'Pixel Accuracy': 0.9945908342182201}\n",
      "\u001B[92m2025-02-11 12:35:44,377 - .\\logs - INFO - Model (last) saved as .\\output\\models\\deeplabv3 - mobilenet_v3_large - 100epochs_last.pth. [in C:\\Users\\KUAI 01\\AppData\\Local\\Temp\\ipykernel_8828\\3590294615.py:20]\u001B[0m\n",
      "Epoch 30/100\n",
      "--------------------------------------------------\n",
      "Train Loss: 0.0028\n",
      "Train Metrics: {'IoU': 0.8619250317039502, 'F1-Score': 0.5811968937824763, 'Pixel Accuracy': 0.9976624461315146}\n"
     ]
    },
    {
     "name": "stderr",
     "output_type": "stream",
     "text": [
      "INFO:.\\logs:Model (last) saved as .\\output\\models\\deeplabv3 - mobilenet_v3_large - 100epochs_last.pth.\n"
     ]
    },
    {
     "name": "stdout",
     "output_type": "stream",
     "text": [
      "Val Loss: 0.0119\n",
      "Val Metrics: {'IoU': 0.8417305425353294, 'F1-Score': 0.5739693427934264, 'Pixel Accuracy': 0.9946547606348122}\n",
      "\u001B[92m2025-02-11 12:44:09,279 - .\\logs - INFO - Model (last) saved as .\\output\\models\\deeplabv3 - mobilenet_v3_large - 100epochs_last.pth. [in C:\\Users\\KUAI 01\\AppData\\Local\\Temp\\ipykernel_8828\\3590294615.py:20]\u001B[0m\n",
      "Epoch 31/100\n",
      "--------------------------------------------------\n",
      "Train Loss: 0.0024\n",
      "Train Metrics: {'IoU': 0.863826873749676, 'F1-Score': 0.5816779350464876, 'Pixel Accuracy': 0.9979487050247541}\n"
     ]
    },
    {
     "name": "stderr",
     "output_type": "stream",
     "text": [
      "INFO:.\\logs:Model (last) saved as .\\output\\models\\deeplabv3 - mobilenet_v3_large - 100epochs_last.pth.\n"
     ]
    },
    {
     "name": "stdout",
     "output_type": "stream",
     "text": [
      "Val Loss: 0.0131\n",
      "Val Metrics: {'IoU': 0.8417732092368342, 'F1-Score': 0.573930026188384, 'Pixel Accuracy': 0.994639563190676}\n",
      "\u001B[92m2025-02-11 12:52:37,237 - .\\logs - INFO - Model (last) saved as .\\output\\models\\deeplabv3 - mobilenet_v3_large - 100epochs_last.pth. [in C:\\Users\\KUAI 01\\AppData\\Local\\Temp\\ipykernel_8828\\3590294615.py:20]\u001B[0m\n",
      "Epoch 32/100\n",
      "--------------------------------------------------\n",
      "Train Loss: 0.0024\n",
      "Train Metrics: {'IoU': 0.8637033197098615, 'F1-Score': 0.5816217698655959, 'Pixel Accuracy': 0.9979559989344333}\n"
     ]
    },
    {
     "name": "stderr",
     "output_type": "stream",
     "text": [
      "INFO:.\\logs:Model (last) saved as .\\output\\models\\deeplabv3 - mobilenet_v3_large - 100epochs_last.pth.\n"
     ]
    },
    {
     "name": "stdout",
     "output_type": "stream",
     "text": [
      "Val Loss: 0.0128\n",
      "Val Metrics: {'IoU': 0.8416741211919019, 'F1-Score': 0.5740911000183899, 'Pixel Accuracy': 0.9946112695836673}\n",
      "\u001B[92m2025-02-11 13:01:06,585 - .\\logs - INFO - Model (last) saved as .\\output\\models\\deeplabv3 - mobilenet_v3_large - 100epochs_last.pth. [in C:\\Users\\KUAI 01\\AppData\\Local\\Temp\\ipykernel_8828\\3590294615.py:20]\u001B[0m\n",
      "Epoch 33/100\n",
      "--------------------------------------------------\n",
      "Train Loss: 0.0027\n",
      "Train Metrics: {'IoU': 0.8619377920347358, 'F1-Score': 0.5809675951314757, 'Pixel Accuracy': 0.9977144885731092}\n"
     ]
    },
    {
     "name": "stderr",
     "output_type": "stream",
     "text": [
      "INFO:.\\logs:Model (last) saved as .\\output\\models\\deeplabv3 - mobilenet_v3_large - 100epochs_last.pth.\n"
     ]
    },
    {
     "name": "stdout",
     "output_type": "stream",
     "text": [
      "Val Loss: 0.0139\n",
      "Val Metrics: {'IoU': 0.8401929291821745, 'F1-Score': 0.5737433136597166, 'Pixel Accuracy': 0.9941308053523085}\n",
      "\u001B[92m2025-02-11 13:09:26,715 - .\\logs - INFO - Model (last) saved as .\\output\\models\\deeplabv3 - mobilenet_v3_large - 100epochs_last.pth. [in C:\\Users\\KUAI 01\\AppData\\Local\\Temp\\ipykernel_8828\\3590294615.py:20]\u001B[0m\n",
      "Epoch 34/100\n",
      "--------------------------------------------------\n",
      "Train Loss: 0.0036\n",
      "Train Metrics: {'IoU': 0.8581814827458722, 'F1-Score': 0.5800500487076089, 'Pixel Accuracy': 0.9971145096345012}\n"
     ]
    },
    {
     "name": "stderr",
     "output_type": "stream",
     "text": [
      "INFO:.\\logs:Model (last) saved as .\\output\\models\\deeplabv3 - mobilenet_v3_large - 100epochs_last.pth.\n"
     ]
    },
    {
     "name": "stdout",
     "output_type": "stream",
     "text": [
      "Val Loss: 0.0104\n",
      "Val Metrics: {'IoU': 0.8378750109759561, 'F1-Score': 0.5727459443529157, 'Pixel Accuracy': 0.9941145504695655}\n",
      "\u001B[92m2025-02-11 13:17:57,368 - .\\logs - INFO - Model (last) saved as .\\output\\models\\deeplabv3 - mobilenet_v3_large - 100epochs_last.pth. [in C:\\Users\\KUAI 01\\AppData\\Local\\Temp\\ipykernel_8828\\3590294615.py:20]\u001B[0m\n",
      "Epoch 35/100\n",
      "--------------------------------------------------\n",
      "Train Loss: 0.0032\n",
      "Train Metrics: {'IoU': 0.8598373291989047, 'F1-Score': 0.5805152680057846, 'Pixel Accuracy': 0.9973682509270132}\n"
     ]
    },
    {
     "name": "stderr",
     "output_type": "stream",
     "text": [
      "INFO:.\\logs:Model (last) saved as .\\output\\models\\deeplabv3 - mobilenet_v3_large - 100epochs_last.pth.\n"
     ]
    },
    {
     "name": "stdout",
     "output_type": "stream",
     "text": [
      "Val Loss: 0.0108\n",
      "Val Metrics: {'IoU': 0.843251307841635, 'F1-Score': 0.574572390448438, 'Pixel Accuracy': 0.9947724868781376}\n",
      "\u001B[92m2025-02-11 13:26:23,712 - .\\logs - INFO - Model (last) saved as .\\output\\models\\deeplabv3 - mobilenet_v3_large - 100epochs_last.pth. [in C:\\Users\\KUAI 01\\AppData\\Local\\Temp\\ipykernel_8828\\3590294615.py:20]\u001B[0m\n",
      "Epoch 36/100\n",
      "--------------------------------------------------\n",
      "Train Loss: 0.0028\n",
      "Train Metrics: {'IoU': 0.8625918143087415, 'F1-Score': 0.5812429636172343, 'Pixel Accuracy': 0.9977731308315616}\n"
     ]
    },
    {
     "name": "stderr",
     "output_type": "stream",
     "text": [
      "INFO:.\\logs:Model (last) saved as .\\output\\models\\deeplabv3 - mobilenet_v3_large - 100epochs_last.pth.\n"
     ]
    },
    {
     "name": "stdout",
     "output_type": "stream",
     "text": [
      "Val Loss: 0.0125\n",
      "Val Metrics: {'IoU': 0.8401246378674124, 'F1-Score': 0.5730864812422843, 'Pixel Accuracy': 0.9942789322485889}\n",
      "\u001B[92m2025-02-11 13:34:49,166 - .\\logs - INFO - Model (last) saved as .\\output\\models\\deeplabv3 - mobilenet_v3_large - 100epochs_last.pth. [in C:\\Users\\KUAI 01\\AppData\\Local\\Temp\\ipykernel_8828\\3590294615.py:20]\u001B[0m\n",
      "Epoch 37/100\n",
      "--------------------------------------------------\n",
      "Train Loss: 0.0023\n",
      "Train Metrics: {'IoU': 0.8641269688339094, 'F1-Score': 0.5816828965523647, 'Pixel Accuracy': 0.9980250518955064}\n"
     ]
    },
    {
     "name": "stderr",
     "output_type": "stream",
     "text": [
      "INFO:.\\logs:Model (last) saved as .\\output\\models\\deeplabv3 - mobilenet_v3_large - 100epochs_last.pth.\n"
     ]
    },
    {
     "name": "stdout",
     "output_type": "stream",
     "text": [
      "Val Loss: 0.0139\n",
      "Val Metrics: {'IoU': 0.8423050561525526, 'F1-Score': 0.5743037237629404, 'Pixel Accuracy': 0.9944638293372453}\n",
      "\u001B[92m2025-02-11 13:43:18,739 - .\\logs - INFO - Model (last) saved as .\\output\\models\\deeplabv3 - mobilenet_v3_large - 100epochs_last.pth. [in C:\\Users\\KUAI 01\\AppData\\Local\\Temp\\ipykernel_8828\\3590294615.py:20]\u001B[0m\n",
      "Epoch 38/100\n",
      "--------------------------------------------------\n",
      "Train Loss: 0.0022\n",
      "Train Metrics: {'IoU': 0.865069750455933, 'F1-Score': 0.5819719193296804, 'Pixel Accuracy': 0.9981592430775116}\n"
     ]
    },
    {
     "name": "stderr",
     "output_type": "stream",
     "text": [
      "INFO:.\\logs:Model (last) saved as .\\output\\models\\deeplabv3 - mobilenet_v3_large - 100epochs_last.pth.\n"
     ]
    },
    {
     "name": "stdout",
     "output_type": "stream",
     "text": [
      "Val Loss: 0.0137\n",
      "Val Metrics: {'IoU': 0.8438758682595552, 'F1-Score': 0.574730230128243, 'Pixel Accuracy': 0.9947937412636123}\n",
      "\u001B[92m2025-02-11 13:51:43,422 - .\\logs - INFO - Model (last) saved as .\\output\\models\\deeplabv3 - mobilenet_v3_large - 100epochs_last.pth. [in C:\\Users\\KUAI 01\\AppData\\Local\\Temp\\ipykernel_8828\\3590294615.py:20]\u001B[0m\n",
      "Epoch 39/100\n",
      "--------------------------------------------------\n",
      "Train Loss: 0.0024\n",
      "Train Metrics: {'IoU': 0.8640394193391416, 'F1-Score': 0.5817213174994768, 'Pixel Accuracy': 0.9979812215364807}\n"
     ]
    },
    {
     "name": "stderr",
     "output_type": "stream",
     "text": [
      "INFO:.\\logs:Model (last) saved as .\\output\\models\\deeplabv3 - mobilenet_v3_large - 100epochs_last.pth.\n"
     ]
    },
    {
     "name": "stdout",
     "output_type": "stream",
     "text": [
      "Val Loss: 0.0137\n",
      "Val Metrics: {'IoU': 0.8427712842822075, 'F1-Score': 0.5743660614655836, 'Pixel Accuracy': 0.9946673474390141}\n",
      "\u001B[92m2025-02-11 14:00:09,422 - .\\logs - INFO - Model (last) saved as .\\output\\models\\deeplabv3 - mobilenet_v3_large - 100epochs_last.pth. [in C:\\Users\\KUAI 01\\AppData\\Local\\Temp\\ipykernel_8828\\3590294615.py:20]\u001B[0m\n",
      "Epoch 40/100\n",
      "--------------------------------------------------\n",
      "Train Loss: 0.0033\n",
      "Train Metrics: {'IoU': 0.8589255550783241, 'F1-Score': 0.5801126147993589, 'Pixel Accuracy': 0.9972873294542245}\n"
     ]
    },
    {
     "name": "stderr",
     "output_type": "stream",
     "text": [
      "INFO:.\\logs:Model (last) saved as .\\output\\models\\deeplabv3 - mobilenet_v3_large - 100epochs_last.pth.\n"
     ]
    },
    {
     "name": "stdout",
     "output_type": "stream",
     "text": [
      "Val Loss: 0.0123\n",
      "Val Metrics: {'IoU': 0.8413158386510654, 'F1-Score': 0.5732778751828375, 'Pixel Accuracy': 0.9947306557293356}\n",
      "\u001B[92m2025-02-11 14:08:35,322 - .\\logs - INFO - Model (last) saved as .\\output\\models\\deeplabv3 - mobilenet_v3_large - 100epochs_last.pth. [in C:\\Users\\KUAI 01\\AppData\\Local\\Temp\\ipykernel_8828\\3590294615.py:20]\u001B[0m\n",
      "Epoch 41/100\n",
      "--------------------------------------------------\n",
      "Train Loss: 0.0024\n",
      "Train Metrics: {'IoU': 0.8637338662554083, 'F1-Score': 0.5815510987400573, 'Pixel Accuracy': 0.9979725390418583}\n"
     ]
    },
    {
     "name": "stderr",
     "output_type": "stream",
     "text": [
      "INFO:.\\logs:Model (last) saved as .\\output\\models\\deeplabv3 - mobilenet_v3_large - 100epochs_last.pth.\n"
     ]
    },
    {
     "name": "stdout",
     "output_type": "stream",
     "text": [
      "Val Loss: 0.0137\n",
      "Val Metrics: {'IoU': 0.843625099608933, 'F1-Score': 0.5742602746417053, 'Pixel Accuracy': 0.9950417795755567}\n",
      "\u001B[92m2025-02-11 14:16:57,053 - .\\logs - INFO - Model (last) saved as .\\output\\models\\deeplabv3 - mobilenet_v3_large - 100epochs_last.pth. [in C:\\Users\\KUAI 01\\AppData\\Local\\Temp\\ipykernel_8828\\3590294615.py:20]\u001B[0m\n",
      "Epoch 42/100\n",
      "--------------------------------------------------\n",
      "Train Loss: 0.0021\n",
      "Train Metrics: {'IoU': 0.8653155924450611, 'F1-Score': 0.5819972078162773, 'Pixel Accuracy': 0.9982185450889597}\n"
     ]
    },
    {
     "name": "stderr",
     "output_type": "stream",
     "text": [
      "INFO:.\\logs:Model (last) saved as .\\output\\models\\deeplabv3 - mobilenet_v3_large - 100epochs_last.pth.\n"
     ]
    },
    {
     "name": "stdout",
     "output_type": "stream",
     "text": [
      "Val Loss: 0.0140\n",
      "Val Metrics: {'IoU': 0.8437420584968407, 'F1-Score': 0.5742561355450727, 'Pixel Accuracy': 0.9951442297357712}\n",
      "\u001B[92m2025-02-11 14:25:23,615 - .\\logs - INFO - Model (last) saved as .\\output\\models\\deeplabv3 - mobilenet_v3_large - 100epochs_last.pth. [in C:\\Users\\KUAI 01\\AppData\\Local\\Temp\\ipykernel_8828\\3590294615.py:20]\u001B[0m\n",
      "Epoch 43/100\n",
      "--------------------------------------------------\n",
      "Train Loss: 0.0021\n",
      "Train Metrics: {'IoU': 0.8649685570514158, 'F1-Score': 0.5818891936366364, 'Pixel Accuracy': 0.9981673564240064}\n"
     ]
    },
    {
     "name": "stderr",
     "output_type": "stream",
     "text": [
      "INFO:.\\logs:Model (last) saved as .\\output\\models\\deeplabv3 - mobilenet_v3_large - 100epochs_last.pth.\n"
     ]
    },
    {
     "name": "stdout",
     "output_type": "stream",
     "text": [
      "Val Loss: 0.0159\n",
      "Val Metrics: {'IoU': 0.8414048872833705, 'F1-Score': 0.5734461524190694, 'Pixel Accuracy': 0.9946937508826709}\n",
      "\u001B[92m2025-02-11 14:33:51,994 - .\\logs - INFO - Model (last) saved as .\\output\\models\\deeplabv3 - mobilenet_v3_large - 100epochs_last.pth. [in C:\\Users\\KUAI 01\\AppData\\Local\\Temp\\ipykernel_8828\\3590294615.py:20]\u001B[0m\n",
      "Epoch 44/100\n",
      "--------------------------------------------------\n",
      "Train Loss: 0.0034\n",
      "Train Metrics: {'IoU': 0.8594063900492804, 'F1-Score': 0.5804996822805265, 'Pixel Accuracy': 0.9972745419347184}\n"
     ]
    },
    {
     "name": "stderr",
     "output_type": "stream",
     "text": [
      "INFO:.\\logs:Model (last) saved as .\\output\\models\\deeplabv3 - mobilenet_v3_large - 100epochs_last.pth.\n"
     ]
    },
    {
     "name": "stdout",
     "output_type": "stream",
     "text": [
      "Val Loss: 0.0101\n",
      "Val Metrics: {'IoU': 0.8407421258896807, 'F1-Score': 0.5737714111043589, 'Pixel Accuracy': 0.9945043673480514}\n",
      "\u001B[92m2025-02-11 14:42:20,034 - .\\logs - INFO - Model (last) saved as .\\output\\models\\deeplabv3 - mobilenet_v3_large - 100epochs_last.pth. [in C:\\Users\\KUAI 01\\AppData\\Local\\Temp\\ipykernel_8828\\3590294615.py:20]\u001B[0m\n",
      "Epoch 45/100\n",
      "--------------------------------------------------\n",
      "Train Loss: 0.0028\n",
      "Train Metrics: {'IoU': 0.8614266730037299, 'F1-Score': 0.5810196075529477, 'Pixel Accuracy': 0.997632513455729}\n"
     ]
    },
    {
     "name": "stderr",
     "output_type": "stream",
     "text": [
      "INFO:.\\logs:Model (last) saved as .\\output\\models\\deeplabv3 - mobilenet_v3_large - 100epochs_last.pth.\n"
     ]
    },
    {
     "name": "stdout",
     "output_type": "stream",
     "text": [
      "Val Loss: 0.0131\n",
      "Val Metrics: {'IoU': 0.8408907503433471, 'F1-Score': 0.57317622027693, 'Pixel Accuracy': 0.9944748054020596}\n",
      "\u001B[92m2025-02-11 14:50:45,072 - .\\logs - INFO - Model (last) saved as .\\output\\models\\deeplabv3 - mobilenet_v3_large - 100epochs_last.pth. [in C:\\Users\\KUAI 01\\AppData\\Local\\Temp\\ipykernel_8828\\3590294615.py:20]\u001B[0m\n",
      "Epoch 46/100\n",
      "--------------------------------------------------\n",
      "Train Loss: 0.0022\n",
      "Train Metrics: {'IoU': 0.8647278163232699, 'F1-Score': 0.5819016245265245, 'Pixel Accuracy': 0.9981044214695293}\n"
     ]
    },
    {
     "name": "stderr",
     "output_type": "stream",
     "text": [
      "INFO:.\\logs:Model (last) saved as .\\output\\models\\deeplabv3 - mobilenet_v3_large - 100epochs_last.pth.\n"
     ]
    },
    {
     "name": "stdout",
     "output_type": "stream",
     "text": [
      "Val Loss: 0.0146\n",
      "Val Metrics: {'IoU': 0.8419104570346158, 'F1-Score': 0.5734440521710981, 'Pixel Accuracy': 0.994646428927888}\n",
      "\u001B[92m2025-02-11 14:59:15,385 - .\\logs - INFO - Model (last) saved as .\\output\\models\\deeplabv3 - mobilenet_v3_large - 100epochs_last.pth. [in C:\\Users\\KUAI 01\\AppData\\Local\\Temp\\ipykernel_8828\\3590294615.py:20]\u001B[0m\n",
      "Epoch 47/100\n",
      "--------------------------------------------------\n",
      "Train Loss: 0.0020\n",
      "Train Metrics: {'IoU': 0.8657757585253407, 'F1-Score': 0.5821365969625373, 'Pixel Accuracy': 0.9982759912978136}\n"
     ]
    },
    {
     "name": "stderr",
     "output_type": "stream",
     "text": [
      "INFO:.\\logs:Model (last) saved as .\\output\\models\\deeplabv3 - mobilenet_v3_large - 100epochs_last.pth.\n"
     ]
    },
    {
     "name": "stdout",
     "output_type": "stream",
     "text": [
      "Val Loss: 0.0162\n",
      "Val Metrics: {'IoU': 0.8427315472903913, 'F1-Score': 0.5740216103565954, 'Pixel Accuracy': 0.9946645374280693}\n",
      "\u001B[92m2025-02-11 15:07:44,148 - .\\logs - INFO - Model (last) saved as .\\output\\models\\deeplabv3 - mobilenet_v3_large - 100epochs_last.pth. [in C:\\Users\\KUAI 01\\AppData\\Local\\Temp\\ipykernel_8828\\3590294615.py:20]\u001B[0m\n",
      "Epoch 48/100\n",
      "--------------------------------------------------\n",
      "Train Loss: 0.0021\n",
      "Train Metrics: {'IoU': 0.8650354770591866, 'F1-Score': 0.5818308077834266, 'Pixel Accuracy': 0.9981979555319926}\n"
     ]
    },
    {
     "name": "stderr",
     "output_type": "stream",
     "text": [
      "INFO:.\\logs:Model (last) saved as .\\output\\models\\deeplabv3 - mobilenet_v3_large - 100epochs_last.pth.\n"
     ]
    },
    {
     "name": "stdout",
     "output_type": "stream",
     "text": [
      "Val Loss: 0.0130\n",
      "Val Metrics: {'IoU': 0.8424780046308997, 'F1-Score': 0.574056168596675, 'Pixel Accuracy': 0.994893004315613}\n",
      "\u001B[92m2025-02-11 15:16:09,888 - .\\logs - INFO - Model (last) saved as .\\output\\models\\deeplabv3 - mobilenet_v3_large - 100epochs_last.pth. [in C:\\Users\\KUAI 01\\AppData\\Local\\Temp\\ipykernel_8828\\3590294615.py:20]\u001B[0m\n",
      "Epoch 49/100\n",
      "--------------------------------------------------\n",
      "Train Loss: 0.0031\n",
      "Train Metrics: {'IoU': 0.860336023511027, 'F1-Score': 0.5805219718040706, 'Pixel Accuracy': 0.9974617473826484}\n"
     ]
    },
    {
     "name": "stderr",
     "output_type": "stream",
     "text": [
      "INFO:.\\logs:Model (last) saved as .\\output\\models\\deeplabv3 - mobilenet_v3_large - 100epochs_last.pth.\n"
     ]
    },
    {
     "name": "stdout",
     "output_type": "stream",
     "text": [
      "Val Loss: 0.0115\n",
      "Val Metrics: {'IoU': 0.8405619482271862, 'F1-Score': 0.5729186652894438, 'Pixel Accuracy': 0.9948501103985918}\n",
      "\u001B[92m2025-02-11 15:24:32,100 - .\\logs - INFO - Model (last) saved as .\\output\\models\\deeplabv3 - mobilenet_v3_large - 100epochs_last.pth. [in C:\\Users\\KUAI 01\\AppData\\Local\\Temp\\ipykernel_8828\\3590294615.py:20]\u001B[0m\n",
      "Epoch 50/100\n",
      "--------------------------------------------------\n",
      "Train Loss: 0.0025\n",
      "Train Metrics: {'IoU': 0.8629455678754835, 'F1-Score': 0.5813045554162524, 'Pixel Accuracy': 0.9979091420969342}\n"
     ]
    },
    {
     "name": "stderr",
     "output_type": "stream",
     "text": [
      "INFO:.\\logs:Model (last) saved as .\\output\\models\\deeplabv3 - mobilenet_v3_large - 100epochs_last.pth.\n"
     ]
    },
    {
     "name": "stdout",
     "output_type": "stream",
     "text": [
      "Val Loss: 0.0128\n",
      "Val Metrics: {'IoU': 0.8426416830098542, 'F1-Score': 0.5738180469531212, 'Pixel Accuracy': 0.9949962632717008}\n",
      "\u001B[92m2025-02-11 15:32:59,608 - .\\logs - INFO - Model (last) saved as .\\output\\models\\deeplabv3 - mobilenet_v3_large - 100epochs_last.pth. [in C:\\Users\\KUAI 01\\AppData\\Local\\Temp\\ipykernel_8828\\3590294615.py:20]\u001B[0m\n",
      "Epoch 51/100\n",
      "--------------------------------------------------\n",
      "Train Loss: 0.0021\n",
      "Train Metrics: {'IoU': 0.8654306381940842, 'F1-Score': 0.5820542797537, 'Pixel Accuracy': 0.9982377261685687}\n"
     ]
    },
    {
     "name": "stderr",
     "output_type": "stream",
     "text": [
      "INFO:.\\logs:Model (last) saved as .\\output\\models\\deeplabv3 - mobilenet_v3_large - 100epochs_last.pth.\n"
     ]
    },
    {
     "name": "stdout",
     "output_type": "stream",
     "text": [
      "Val Loss: 0.0143\n",
      "Val Metrics: {'IoU': 0.8428720693192343, 'F1-Score': 0.5739423745740069, 'Pixel Accuracy': 0.9949675684210157}\n",
      "\u001B[92m2025-02-11 15:41:25,476 - .\\logs - INFO - Model (last) saved as .\\output\\models\\deeplabv3 - mobilenet_v3_large - 100epochs_last.pth. [in C:\\Users\\KUAI 01\\AppData\\Local\\Temp\\ipykernel_8828\\3590294615.py:20]\u001B[0m\n",
      "Epoch 52/100\n",
      "--------------------------------------------------\n",
      "Train Loss: 0.0020\n",
      "Train Metrics: {'IoU': 0.8661022897759831, 'F1-Score': 0.5822992743731417, 'Pixel Accuracy': 0.9983170035042223}\n"
     ]
    },
    {
     "name": "stderr",
     "output_type": "stream",
     "text": [
      "INFO:.\\logs:Model (last) saved as .\\output\\models\\deeplabv3 - mobilenet_v3_large - 100epochs_last.pth.\n"
     ]
    },
    {
     "name": "stdout",
     "output_type": "stream",
     "text": [
      "Val Loss: 0.0149\n",
      "Val Metrics: {'IoU': 0.8427418808106089, 'F1-Score': 0.5740245465379562, 'Pixel Accuracy': 0.9948440460610564}\n",
      "\u001B[92m2025-02-11 15:49:50,656 - .\\logs - INFO - Model (last) saved as .\\output\\models\\deeplabv3 - mobilenet_v3_large - 100epochs_last.pth. [in C:\\Users\\KUAI 01\\AppData\\Local\\Temp\\ipykernel_8828\\3590294615.py:20]\u001B[0m\n",
      "Epoch 53/100\n",
      "--------------------------------------------------\n",
      "Train Loss: 0.0022\n",
      "Train Metrics: {'IoU': 0.8647691416537138, 'F1-Score': 0.581780287057125, 'Pixel Accuracy': 0.9981473935507101}\n"
     ]
    },
    {
     "name": "stderr",
     "output_type": "stream",
     "text": [
      "INFO:.\\logs:Model (last) saved as .\\output\\models\\deeplabv3 - mobilenet_v3_large - 100epochs_last.pth.\n"
     ]
    },
    {
     "name": "stdout",
     "output_type": "stream",
     "text": [
      "Val Loss: 0.0161\n",
      "Val Metrics: {'IoU': 0.8410384715908635, 'F1-Score': 0.5733610439474566, 'Pixel Accuracy': 0.9944577781605894}\n",
      "\u001B[92m2025-02-11 15:58:24,926 - .\\logs - INFO - Model (last) saved as .\\output\\models\\deeplabv3 - mobilenet_v3_large - 100epochs_last.pth. [in C:\\Users\\KUAI 01\\AppData\\Local\\Temp\\ipykernel_8828\\3590294615.py:20]\u001B[0m\n",
      "Epoch 54/100\n",
      "--------------------------------------------------\n",
      "Train Loss: 0.0027\n",
      "Train Metrics: {'IoU': 0.8626364350464109, 'F1-Score': 0.5813480993317628, 'Pixel Accuracy': 0.9977680304236302}\n"
     ]
    },
    {
     "name": "stderr",
     "output_type": "stream",
     "text": [
      "INFO:.\\logs:Model (last) saved as .\\output\\models\\deeplabv3 - mobilenet_v3_large - 100epochs_last.pth.\n"
     ]
    },
    {
     "name": "stdout",
     "output_type": "stream",
     "text": [
      "Val Loss: 0.0141\n",
      "Val Metrics: {'IoU': 0.8397607940935741, 'F1-Score': 0.5732285225913473, 'Pixel Accuracy': 0.9942972630697445}\n",
      "\u001B[92m2025-02-11 16:06:51,239 - .\\logs - INFO - Model (last) saved as .\\output\\models\\deeplabv3 - mobilenet_v3_large - 100epochs_last.pth. [in C:\\Users\\KUAI 01\\AppData\\Local\\Temp\\ipykernel_8828\\3590294615.py:20]\u001B[0m\n",
      "Epoch 55/100\n",
      "--------------------------------------------------\n",
      "Train Loss: 0.0023\n",
      "Train Metrics: {'IoU': 0.8641395816050842, 'F1-Score': 0.5816211838198057, 'Pixel Accuracy': 0.9980364266905511}\n"
     ]
    },
    {
     "name": "stderr",
     "output_type": "stream",
     "text": [
      "INFO:.\\logs:Model (last) saved as .\\output\\models\\deeplabv3 - mobilenet_v3_large - 100epochs_last.pth.\n"
     ]
    },
    {
     "name": "stdout",
     "output_type": "stream",
     "text": [
      "Val Loss: 0.0166\n",
      "Val Metrics: {'IoU': 0.8411229809705358, 'F1-Score': 0.5736398564202942, 'Pixel Accuracy': 0.9943679926821786}\n",
      "\u001B[92m2025-02-11 16:15:16,776 - .\\logs - INFO - Model (last) saved as .\\output\\models\\deeplabv3 - mobilenet_v3_large - 100epochs_last.pth. [in C:\\Users\\KUAI 01\\AppData\\Local\\Temp\\ipykernel_8828\\3590294615.py:20]\u001B[0m\n",
      "Epoch 56/100\n",
      "--------------------------------------------------\n",
      "Train Loss: 0.0020\n",
      "Train Metrics: {'IoU': 0.8660680603385698, 'F1-Score': 0.5822157704075129, 'Pixel Accuracy': 0.9983235011002033}\n"
     ]
    },
    {
     "name": "stderr",
     "output_type": "stream",
     "text": [
      "INFO:.\\logs:Model (last) saved as .\\output\\models\\deeplabv3 - mobilenet_v3_large - 100epochs_last.pth.\n"
     ]
    },
    {
     "name": "stdout",
     "output_type": "stream",
     "text": [
      "Val Loss: 0.0181\n",
      "Val Metrics: {'IoU': 0.841717391934273, 'F1-Score': 0.5737968107318356, 'Pixel Accuracy': 0.9944275078112191}\n",
      "\u001B[92m2025-02-11 16:23:42,725 - .\\logs - INFO - Model (last) saved as .\\output\\models\\deeplabv3 - mobilenet_v3_large - 100epochs_last.pth. [in C:\\Users\\KUAI 01\\AppData\\Local\\Temp\\ipykernel_8828\\3590294615.py:20]\u001B[0m\n",
      "Epoch 57/100\n",
      "--------------------------------------------------\n",
      "Train Loss: 0.0019\n",
      "Train Metrics: {'IoU': 0.8662068648728907, 'F1-Score': 0.5822158242041533, 'Pixel Accuracy': 0.99835575138753}\n"
     ]
    },
    {
     "name": "stderr",
     "output_type": "stream",
     "text": [
      "INFO:.\\logs:Model (last) saved as .\\output\\models\\deeplabv3 - mobilenet_v3_large - 100epochs_last.pth.\n"
     ]
    },
    {
     "name": "stdout",
     "output_type": "stream",
     "text": [
      "Val Loss: 0.0170\n",
      "Val Metrics: {'IoU': 0.8427589294249124, 'F1-Score': 0.5740448864598344, 'Pixel Accuracy': 0.9946959942144199}\n",
      "\u001B[92m2025-02-11 16:32:02,222 - .\\logs - INFO - Model (last) saved as .\\output\\models\\deeplabv3 - mobilenet_v3_large - 100epochs_last.pth. [in C:\\Users\\KUAI 01\\AppData\\Local\\Temp\\ipykernel_8828\\3590294615.py:20]\u001B[0m\n",
      "Epoch 58/100\n",
      "--------------------------------------------------\n",
      "Train Loss: 0.0021\n",
      "Train Metrics: {'IoU': 0.8653760069252948, 'F1-Score': 0.5820214848933644, 'Pixel Accuracy': 0.9982023118982651}\n"
     ]
    },
    {
     "name": "stderr",
     "output_type": "stream",
     "text": [
      "INFO:.\\logs:Model (last) saved as .\\output\\models\\deeplabv3 - mobilenet_v3_large - 100epochs_last.pth.\n"
     ]
    },
    {
     "name": "stdout",
     "output_type": "stream",
     "text": [
      "Val Loss: 0.0160\n",
      "Val Metrics: {'IoU': 0.8435530604889793, 'F1-Score': 0.5742543538230179, 'Pixel Accuracy': 0.9948345519547915}\n",
      "\u001B[92m2025-02-11 16:40:32,279 - .\\logs - INFO - Model (last) saved as .\\output\\models\\deeplabv3 - mobilenet_v3_large - 100epochs_last.pth. [in C:\\Users\\KUAI 01\\AppData\\Local\\Temp\\ipykernel_8828\\3590294615.py:20]\u001B[0m\n",
      "Epoch 59/100\n",
      "--------------------------------------------------\n",
      "Train Loss: 0.0022\n",
      "Train Metrics: {'IoU': 0.8650859233704322, 'F1-Score': 0.5820495604053049, 'Pixel Accuracy': 0.998137681006514}\n"
     ]
    },
    {
     "name": "stderr",
     "output_type": "stream",
     "text": [
      "INFO:.\\logs:Model (last) saved as .\\output\\models\\deeplabv3 - mobilenet_v3_large - 100epochs_last.pth.\n"
     ]
    },
    {
     "name": "stdout",
     "output_type": "stream",
     "text": [
      "Val Loss: 0.0171\n",
      "Val Metrics: {'IoU': 0.8431160922576911, 'F1-Score': 0.5741420457833004, 'Pixel Accuracy': 0.9946684843867365}\n",
      "\u001B[92m2025-02-11 16:48:58,330 - .\\logs - INFO - Model (last) saved as .\\output\\models\\deeplabv3 - mobilenet_v3_large - 100epochs_last.pth. [in C:\\Users\\KUAI 01\\AppData\\Local\\Temp\\ipykernel_8828\\3590294615.py:20]\u001B[0m\n",
      "Epoch 60/100\n",
      "--------------------------------------------------\n",
      "Train Loss: 0.0022\n",
      "Train Metrics: {'IoU': 0.8645938209073116, 'F1-Score': 0.581739416729373, 'Pixel Accuracy': 0.9980982378324841}\n"
     ]
    },
    {
     "name": "stderr",
     "output_type": "stream",
     "text": [
      "INFO:.\\logs:Model (last) saved as .\\output\\models\\deeplabv3 - mobilenet_v3_large - 100epochs_last.pth.\n"
     ]
    },
    {
     "name": "stdout",
     "output_type": "stream",
     "text": [
      "Val Loss: 0.0170\n",
      "Val Metrics: {'IoU': 0.8441508694613067, 'F1-Score': 0.5743839256737354, 'Pixel Accuracy': 0.9947412058602284}\n",
      "\u001B[92m2025-02-11 16:57:26,950 - .\\logs - INFO - Model (last) saved as .\\output\\models\\deeplabv3 - mobilenet_v3_large - 100epochs_last.pth. [in C:\\Users\\KUAI 01\\AppData\\Local\\Temp\\ipykernel_8828\\3590294615.py:20]\u001B[0m\n",
      "Epoch 61/100\n",
      "--------------------------------------------------\n",
      "Train Loss: 0.0023\n",
      "Train Metrics: {'IoU': 0.8644472966639917, 'F1-Score': 0.581830129535567, 'Pixel Accuracy': 0.998034884992093}\n"
     ]
    },
    {
     "name": "stderr",
     "output_type": "stream",
     "text": [
      "INFO:.\\logs:Model (last) saved as .\\output\\models\\deeplabv3 - mobilenet_v3_large - 100epochs_last.pth.\n"
     ]
    },
    {
     "name": "stdout",
     "output_type": "stream",
     "text": [
      "Val Loss: 0.0163\n",
      "Val Metrics: {'IoU': 0.8444584077292115, 'F1-Score': 0.5744726730741724, 'Pixel Accuracy': 0.9950063417862801}\n",
      "\u001B[92m2025-02-11 17:05:53,351 - .\\logs - INFO - Model (last) saved as .\\output\\models\\deeplabv3 - mobilenet_v3_large - 100epochs_last.pth. [in C:\\Users\\KUAI 01\\AppData\\Local\\Temp\\ipykernel_8828\\3590294615.py:20]\u001B[0m\n",
      "Epoch 62/100\n",
      "--------------------------------------------------\n",
      "Train Loss: 0.0021\n",
      "Train Metrics: {'IoU': 0.8652044042817858, 'F1-Score': 0.5819911895803064, 'Pixel Accuracy': 0.9981735318935455}\n"
     ]
    },
    {
     "name": "stderr",
     "output_type": "stream",
     "text": [
      "INFO:.\\logs:Model (last) saved as .\\output\\models\\deeplabv3 - mobilenet_v3_large - 100epochs_last.pth.\n"
     ]
    },
    {
     "name": "stdout",
     "output_type": "stream",
     "text": [
      "Val Loss: 0.0161\n",
      "Val Metrics: {'IoU': 0.8449016093228855, 'F1-Score': 0.5745786355577246, 'Pixel Accuracy': 0.9951642800639146}\n",
      "\u001B[92m2025-02-11 17:14:19,428 - .\\logs - INFO - Model (last) saved as .\\output\\models\\deeplabv3 - mobilenet_v3_large - 100epochs_last.pth. [in C:\\Users\\KUAI 01\\AppData\\Local\\Temp\\ipykernel_8828\\3590294615.py:20]\u001B[0m\n",
      "Epoch 63/100\n",
      "--------------------------------------------------\n",
      "Train Loss: 0.0020\n",
      "Train Metrics: {'IoU': 0.8657987539210651, 'F1-Score': 0.5821484719901079, 'Pixel Accuracy': 0.9982608823915637}\n"
     ]
    },
    {
     "name": "stderr",
     "output_type": "stream",
     "text": [
      "INFO:.\\logs:Model (last) saved as .\\output\\models\\deeplabv3 - mobilenet_v3_large - 100epochs_last.pth.\n"
     ]
    },
    {
     "name": "stdout",
     "output_type": "stream",
     "text": [
      "Val Loss: 0.0164\n",
      "Val Metrics: {'IoU': 0.8427771943329024, 'F1-Score': 0.5738149820996897, 'Pixel Accuracy': 0.9948277651828571}\n",
      "\u001B[92m2025-02-11 17:22:48,791 - .\\logs - INFO - Model (last) saved as .\\output\\models\\deeplabv3 - mobilenet_v3_large - 100epochs_last.pth. [in C:\\Users\\KUAI 01\\AppData\\Local\\Temp\\ipykernel_8828\\3590294615.py:20]\u001B[0m\n",
      "Epoch 64/100\n",
      "--------------------------------------------------\n",
      "Train Loss: 0.0025\n",
      "Train Metrics: {'IoU': 0.8636353533538047, 'F1-Score': 0.5814146053195726, 'Pixel Accuracy': 0.9980030593424853}\n"
     ]
    },
    {
     "name": "stderr",
     "output_type": "stream",
     "text": [
      "INFO:.\\logs:Model (last) saved as .\\output\\models\\deeplabv3 - mobilenet_v3_large - 100epochs_last.pth.\n"
     ]
    },
    {
     "name": "stdout",
     "output_type": "stream",
     "text": [
      "Val Loss: 0.0141\n",
      "Val Metrics: {'IoU': 0.8340230253491089, 'F1-Score': 0.5709376707129235, 'Pixel Accuracy': 0.9936078468160908}\n",
      "\u001B[92m2025-02-11 17:31:17,276 - .\\logs - INFO - Model (last) saved as .\\output\\models\\deeplabv3 - mobilenet_v3_large - 100epochs_last.pth. [in C:\\Users\\KUAI 01\\AppData\\Local\\Temp\\ipykernel_8828\\3590294615.py:20]\u001B[0m\n",
      "Epoch 65/100\n",
      "--------------------------------------------------\n",
      "Train Loss: 0.0033\n",
      "Train Metrics: {'IoU': 0.8602248161268873, 'F1-Score': 0.5804165557988814, 'Pixel Accuracy': 0.9974522899187439}\n"
     ]
    },
    {
     "name": "stderr",
     "output_type": "stream",
     "text": [
      "INFO:.\\logs:Model (last) saved as .\\output\\models\\deeplabv3 - mobilenet_v3_large - 100epochs_last.pth.\n"
     ]
    },
    {
     "name": "stdout",
     "output_type": "stream",
     "text": [
      "Val Loss: 0.0113\n",
      "Val Metrics: {'IoU': 0.8423572502975917, 'F1-Score': 0.5738475900279344, 'Pixel Accuracy': 0.9949037257554757}\n",
      "\u001B[92m2025-02-11 17:39:40,934 - .\\logs - INFO - Model (last) saved as .\\output\\models\\deeplabv3 - mobilenet_v3_large - 100epochs_last.pth. [in C:\\Users\\KUAI 01\\AppData\\Local\\Temp\\ipykernel_8828\\3590294615.py:20]\u001B[0m\n",
      "Epoch 66/100\n",
      "--------------------------------------------------\n",
      "Train Loss: 0.0022\n",
      "Train Metrics: {'IoU': 0.8646170181311875, 'F1-Score': 0.5817553969996274, 'Pixel Accuracy': 0.9981098312625931}\n"
     ]
    },
    {
     "name": "stderr",
     "output_type": "stream",
     "text": [
      "INFO:.\\logs:Model (last) saved as .\\output\\models\\deeplabv3 - mobilenet_v3_large - 100epochs_last.pth.\n"
     ]
    },
    {
     "name": "stdout",
     "output_type": "stream",
     "text": [
      "Val Loss: 0.0124\n",
      "Val Metrics: {'IoU': 0.8428134943229438, 'F1-Score': 0.5738594831667677, 'Pixel Accuracy': 0.9950846079057151}\n",
      "\u001B[92m2025-02-11 17:48:08,868 - .\\logs - INFO - Model (last) saved as .\\output\\models\\deeplabv3 - mobilenet_v3_large - 100epochs_last.pth. [in C:\\Users\\KUAI 01\\AppData\\Local\\Temp\\ipykernel_8828\\3590294615.py:20]\u001B[0m\n",
      "Epoch 67/100\n",
      "--------------------------------------------------\n",
      "Train Loss: 0.0019\n",
      "Train Metrics: {'IoU': 0.8660999341764636, 'F1-Score': 0.5822179597347575, 'Pixel Accuracy': 0.9983261541239963}\n"
     ]
    },
    {
     "name": "stderr",
     "output_type": "stream",
     "text": [
      "INFO:.\\logs:Model (last) saved as .\\output\\models\\deeplabv3 - mobilenet_v3_large - 100epochs_last.pth.\n"
     ]
    },
    {
     "name": "stdout",
     "output_type": "stream",
     "text": [
      "Val Loss: 0.0137\n",
      "Val Metrics: {'IoU': 0.8418474855431675, 'F1-Score': 0.5735575889040084, 'Pixel Accuracy': 0.9949722049662667}\n",
      "\u001B[92m2025-02-11 17:56:36,701 - .\\logs - INFO - Model (last) saved as .\\output\\models\\deeplabv3 - mobilenet_v3_large - 100epochs_last.pth. [in C:\\Users\\KUAI 01\\AppData\\Local\\Temp\\ipykernel_8828\\3590294615.py:20]\u001B[0m\n",
      "Epoch 68/100\n",
      "--------------------------------------------------\n",
      "Train Loss: 0.0018\n",
      "Train Metrics: {'IoU': 0.86702906141618, 'F1-Score': 0.5824461986609121, 'Pixel Accuracy': 0.9984681165247393}\n"
     ]
    },
    {
     "name": "stderr",
     "output_type": "stream",
     "text": [
      "INFO:.\\logs:Model (last) saved as .\\output\\models\\deeplabv3 - mobilenet_v3_large - 100epochs_last.pth.\n"
     ]
    },
    {
     "name": "stdout",
     "output_type": "stream",
     "text": [
      "Val Loss: 0.0154\n",
      "Val Metrics: {'IoU': 0.8419404419234199, 'F1-Score': 0.5735136635438369, 'Pixel Accuracy': 0.994897767248815}\n",
      "\u001B[92m2025-02-11 18:05:00,837 - .\\logs - INFO - Model (last) saved as .\\output\\models\\deeplabv3 - mobilenet_v3_large - 100epochs_last.pth. [in C:\\Users\\KUAI 01\\AppData\\Local\\Temp\\ipykernel_8828\\3590294615.py:20]\u001B[0m\n",
      "Epoch 69/100\n",
      "--------------------------------------------------\n",
      "Train Loss: 0.0018\n",
      "Train Metrics: {'IoU': 0.86682391155797, 'F1-Score': 0.5822738604881006, 'Pixel Accuracy': 0.998473018916022}\n"
     ]
    },
    {
     "name": "stderr",
     "output_type": "stream",
     "text": [
      "INFO:.\\logs:Model (last) saved as .\\output\\models\\deeplabv3 - mobilenet_v3_large - 100epochs_last.pth.\n"
     ]
    },
    {
     "name": "stdout",
     "output_type": "stream",
     "text": [
      "Val Loss: 0.0160\n",
      "Val Metrics: {'IoU': 0.8425859620210028, 'F1-Score': 0.5738634234362275, 'Pixel Accuracy': 0.9948865384080984}\n",
      "\u001B[92m2025-02-11 18:13:27,399 - .\\logs - INFO - Model (last) saved as .\\output\\models\\deeplabv3 - mobilenet_v3_large - 100epochs_last.pth. [in C:\\Users\\KUAI 01\\AppData\\Local\\Temp\\ipykernel_8828\\3590294615.py:20]\u001B[0m\n",
      "Epoch 70/100\n",
      "--------------------------------------------------\n",
      "Train Loss: 0.0019\n",
      "Train Metrics: {'IoU': 0.8662614359925348, 'F1-Score': 0.5822499472824868, 'Pixel Accuracy': 0.9983559391675709}\n"
     ]
    },
    {
     "name": "stderr",
     "output_type": "stream",
     "text": [
      "INFO:.\\logs:Model (last) saved as .\\output\\models\\deeplabv3 - mobilenet_v3_large - 100epochs_last.pth.\n"
     ]
    },
    {
     "name": "stdout",
     "output_type": "stream",
     "text": [
      "Val Loss: 0.0166\n",
      "Val Metrics: {'IoU': 0.8423963763961827, 'F1-Score': 0.5742957719812428, 'Pixel Accuracy': 0.9946001351532274}\n",
      "\u001B[92m2025-02-11 18:21:56,061 - .\\logs - INFO - Model (last) saved as .\\output\\models\\deeplabv3 - mobilenet_v3_large - 100epochs_last.pth. [in C:\\Users\\KUAI 01\\AppData\\Local\\Temp\\ipykernel_8828\\3590294615.py:20]\u001B[0m\n",
      "Epoch 71/100\n",
      "--------------------------------------------------\n",
      "Train Loss: 0.0020\n",
      "Train Metrics: {'IoU': 0.8661201816964237, 'F1-Score': 0.582228725633145, 'Pixel Accuracy': 0.9983091446572187}\n"
     ]
    },
    {
     "name": "stderr",
     "output_type": "stream",
     "text": [
      "INFO:.\\logs:Model (last) saved as .\\output\\models\\deeplabv3 - mobilenet_v3_large - 100epochs_last.pth.\n"
     ]
    },
    {
     "name": "stdout",
     "output_type": "stream",
     "text": [
      "Val Loss: 0.0168\n",
      "Val Metrics: {'IoU': 0.8446331169374668, 'F1-Score': 0.574799068489649, 'Pixel Accuracy': 0.9950156388056539}\n",
      "\u001B[92m2025-02-11 18:30:25,522 - .\\logs - INFO - Model (last) saved as .\\output\\models\\deeplabv3 - mobilenet_v3_large - 100epochs_last.pth. [in C:\\Users\\KUAI 01\\AppData\\Local\\Temp\\ipykernel_8828\\3590294615.py:20]\u001B[0m\n",
      "Epoch 72/100\n",
      "--------------------------------------------------\n",
      "Train Loss: 0.0026\n",
      "Train Metrics: {'IoU': 0.8634615898604224, 'F1-Score': 0.5812877842228538, 'Pixel Accuracy': 0.9979893635962971}\n"
     ]
    },
    {
     "name": "stderr",
     "output_type": "stream",
     "text": [
      "INFO:.\\logs:Model (last) saved as .\\output\\models\\deeplabv3 - mobilenet_v3_large - 100epochs_last.pth.\n"
     ]
    },
    {
     "name": "stdout",
     "output_type": "stream",
     "text": [
      "Val Loss: 0.0120\n",
      "Val Metrics: {'IoU': 0.8406254068887147, 'F1-Score': 0.5731238511792065, 'Pixel Accuracy': 0.9944193441502369}\n",
      "\u001B[92m2025-02-11 18:38:54,829 - .\\logs - INFO - Model (last) saved as .\\output\\models\\deeplabv3 - mobilenet_v3_large - 100epochs_last.pth. [in C:\\Users\\KUAI 01\\AppData\\Local\\Temp\\ipykernel_8828\\3590294615.py:20]\u001B[0m\n",
      "Epoch 73/100\n",
      "--------------------------------------------------\n",
      "Train Loss: 0.0029\n",
      "Train Metrics: {'IoU': 0.8619903888140468, 'F1-Score': 0.5810671929501442, 'Pixel Accuracy': 0.9976877284834068}\n"
     ]
    },
    {
     "name": "stderr",
     "output_type": "stream",
     "text": [
      "INFO:.\\logs:Model (last) saved as .\\output\\models\\deeplabv3 - mobilenet_v3_large - 100epochs_last.pth.\n"
     ]
    },
    {
     "name": "stdout",
     "output_type": "stream",
     "text": [
      "Val Loss: 0.0123\n",
      "Val Metrics: {'IoU': 0.8427537431138276, 'F1-Score': 0.5736986150706771, 'Pixel Accuracy': 0.9950781164378145}\n",
      "\u001B[92m2025-02-11 18:47:12,657 - .\\logs - INFO - Model (last) saved as .\\output\\models\\deeplabv3 - mobilenet_v3_large - 100epochs_last.pth. [in C:\\Users\\KUAI 01\\AppData\\Local\\Temp\\ipykernel_8828\\3590294615.py:20]\u001B[0m\n",
      "Epoch 74/100\n",
      "--------------------------------------------------\n",
      "Train Loss: 0.0020\n",
      "Train Metrics: {'IoU': 0.8655958951753763, 'F1-Score': 0.5821609119550029, 'Pixel Accuracy': 0.9982409372689808}\n"
     ]
    },
    {
     "name": "stderr",
     "output_type": "stream",
     "text": [
      "INFO:.\\logs:Model (last) saved as .\\output\\models\\deeplabv3 - mobilenet_v3_large - 100epochs_last.pth.\n"
     ]
    },
    {
     "name": "stdout",
     "output_type": "stream",
     "text": [
      "Val Loss: 0.0138\n",
      "Val Metrics: {'IoU': 0.844020247622563, 'F1-Score': 0.5739899065590253, 'Pixel Accuracy': 0.9952483071680487}\n",
      "\u001B[92m2025-02-11 18:55:43,207 - .\\logs - INFO - Model (last) saved as .\\output\\models\\deeplabv3 - mobilenet_v3_large - 100epochs_last.pth. [in C:\\Users\\KUAI 01\\AppData\\Local\\Temp\\ipykernel_8828\\3590294615.py:20]\u001B[0m\n",
      "Epoch 75/100\n",
      "--------------------------------------------------\n",
      "Train Loss: 0.0018\n",
      "Train Metrics: {'IoU': 0.8667661688504933, 'F1-Score': 0.5823741875198669, 'Pixel Accuracy': 0.9984324461577435}\n"
     ]
    },
    {
     "name": "stderr",
     "output_type": "stream",
     "text": [
      "INFO:.\\logs:Model (last) saved as .\\output\\models\\deeplabv3 - mobilenet_v3_large - 100epochs_last.pth.\n"
     ]
    },
    {
     "name": "stdout",
     "output_type": "stream",
     "text": [
      "Val Loss: 0.0155\n",
      "Val Metrics: {'IoU': 0.8447403141508137, 'F1-Score': 0.5744951369009749, 'Pixel Accuracy': 0.9952088933791557}\n",
      "\u001B[92m2025-02-11 19:04:08,414 - .\\logs - INFO - Model (last) saved as .\\output\\models\\deeplabv3 - mobilenet_v3_large - 100epochs_last.pth. [in C:\\Users\\KUAI 01\\AppData\\Local\\Temp\\ipykernel_8828\\3590294615.py:20]\u001B[0m\n",
      "Epoch 76/100\n",
      "--------------------------------------------------\n",
      "Train Loss: 0.0017\n",
      "Train Metrics: {'IoU': 0.8672330930157498, 'F1-Score': 0.5823802936926539, 'Pixel Accuracy': 0.9985311258216724}\n"
     ]
    },
    {
     "name": "stderr",
     "output_type": "stream",
     "text": [
      "INFO:.\\logs:Model (last) saved as .\\output\\models\\deeplabv3 - mobilenet_v3_large - 100epochs_last.pth.\n"
     ]
    },
    {
     "name": "stdout",
     "output_type": "stream",
     "text": [
      "Val Loss: 0.0171\n",
      "Val Metrics: {'IoU': 0.8446474842672801, 'F1-Score': 0.5742670270974619, 'Pixel Accuracy': 0.9952186551624841}\n",
      "\u001B[92m2025-02-11 19:12:37,889 - .\\logs - INFO - Model (last) saved as .\\output\\models\\deeplabv3 - mobilenet_v3_large - 100epochs_last.pth. [in C:\\Users\\KUAI 01\\AppData\\Local\\Temp\\ipykernel_8828\\3590294615.py:20]\u001B[0m\n",
      "Epoch 77/100\n",
      "--------------------------------------------------\n",
      "Train Loss: 0.0017\n",
      "Train Metrics: {'IoU': 0.8672202897964819, 'F1-Score': 0.5825480410010168, 'Pixel Accuracy': 0.998507369014726}\n"
     ]
    },
    {
     "name": "stderr",
     "output_type": "stream",
     "text": [
      "INFO:.\\logs:Model (last) saved as .\\output\\models\\deeplabv3 - mobilenet_v3_large - 100epochs_last.pth.\n"
     ]
    },
    {
     "name": "stdout",
     "output_type": "stream",
     "text": [
      "Val Loss: 0.0182\n",
      "Val Metrics: {'IoU': 0.8443922120941817, 'F1-Score': 0.5743986206115598, 'Pixel Accuracy': 0.9949304535441155}\n",
      "\u001B[92m2025-02-11 19:21:05,976 - .\\logs - INFO - Model (last) saved as .\\output\\models\\deeplabv3 - mobilenet_v3_large - 100epochs_last.pth. [in C:\\Users\\KUAI 01\\AppData\\Local\\Temp\\ipykernel_8828\\3590294615.py:20]\u001B[0m\n",
      "Epoch 78/100\n",
      "--------------------------------------------------\n",
      "Train Loss: 0.0021\n",
      "Train Metrics: {'IoU': 0.8652560571696378, 'F1-Score': 0.5818920389961239, 'Pixel Accuracy': 0.9982308265860856}\n"
     ]
    },
    {
     "name": "stderr",
     "output_type": "stream",
     "text": [
      "INFO:.\\logs:Model (last) saved as .\\output\\models\\deeplabv3 - mobilenet_v3_large - 100epochs_last.pth.\n"
     ]
    },
    {
     "name": "stdout",
     "output_type": "stream",
     "text": [
      "Val Loss: 0.0141\n",
      "Val Metrics: {'IoU': 0.843901658308332, 'F1-Score': 0.5739510016937326, 'Pixel Accuracy': 0.9951542610452123}\n",
      "\u001B[92m2025-02-11 19:29:33,706 - .\\logs - INFO - Model (last) saved as .\\output\\models\\deeplabv3 - mobilenet_v3_large - 100epochs_last.pth. [in C:\\Users\\KUAI 01\\AppData\\Local\\Temp\\ipykernel_8828\\3590294615.py:20]\u001B[0m\n",
      "Epoch 79/100\n",
      "--------------------------------------------------\n",
      "Train Loss: 0.0021\n",
      "Train Metrics: {'IoU': 0.8652286081054179, 'F1-Score': 0.5818916208742597, 'Pixel Accuracy': 0.9982229066461361}\n"
     ]
    },
    {
     "name": "stderr",
     "output_type": "stream",
     "text": [
      "INFO:.\\logs:Model (last) saved as .\\output\\models\\deeplabv3 - mobilenet_v3_large - 100epochs_last.pth.\n"
     ]
    },
    {
     "name": "stdout",
     "output_type": "stream",
     "text": [
      "Val Loss: 0.0144\n",
      "Val Metrics: {'IoU': 0.8446821144027431, 'F1-Score': 0.5741592965421886, 'Pixel Accuracy': 0.9953166132208204}\n",
      "\u001B[92m2025-02-11 19:38:01,635 - .\\logs - INFO - Model (last) saved as .\\output\\models\\deeplabv3 - mobilenet_v3_large - 100epochs_last.pth. [in C:\\Users\\KUAI 01\\AppData\\Local\\Temp\\ipykernel_8828\\3590294615.py:20]\u001B[0m\n",
      "Epoch 80/100\n",
      "--------------------------------------------------\n",
      "Train Loss: 0.0018\n",
      "Train Metrics: {'IoU': 0.8668241007174121, 'F1-Score': 0.5823537734190817, 'Pixel Accuracy': 0.9984588779862993}\n"
     ]
    },
    {
     "name": "stderr",
     "output_type": "stream",
     "text": [
      "INFO:.\\logs:Model (last) saved as .\\output\\models\\deeplabv3 - mobilenet_v3_large - 100epochs_last.pth.\n"
     ]
    },
    {
     "name": "stdout",
     "output_type": "stream",
     "text": [
      "Val Loss: 0.0176\n",
      "Val Metrics: {'IoU': 0.8447523238885142, 'F1-Score': 0.5741642268687269, 'Pixel Accuracy': 0.9951929866615004}\n",
      "\u001B[92m2025-02-11 19:46:30,866 - .\\logs - INFO - Model (last) saved as .\\output\\models\\deeplabv3 - mobilenet_v3_large - 100epochs_last.pth. [in C:\\Users\\KUAI 01\\AppData\\Local\\Temp\\ipykernel_8828\\3590294615.py:20]\u001B[0m\n",
      "Epoch 81/100\n",
      "--------------------------------------------------\n",
      "Train Loss: 0.0017\n",
      "Train Metrics: {'IoU': 0.8674433733746137, 'F1-Score': 0.582418824011748, 'Pixel Accuracy': 0.998569166761949}\n"
     ]
    },
    {
     "name": "stderr",
     "output_type": "stream",
     "text": [
      "INFO:.\\logs:Model (last) saved as .\\output\\models\\deeplabv3 - mobilenet_v3_large - 100epochs_last.pth.\n"
     ]
    },
    {
     "name": "stdout",
     "output_type": "stream",
     "text": [
      "Val Loss: 0.0188\n",
      "Val Metrics: {'IoU': 0.8446230417402991, 'F1-Score': 0.574121394079097, 'Pixel Accuracy': 0.9951353434228549}\n",
      "\u001B[92m2025-02-11 19:54:55,128 - .\\logs - INFO - Model (last) saved as .\\output\\models\\deeplabv3 - mobilenet_v3_large - 100epochs_last.pth. [in C:\\Users\\KUAI 01\\AppData\\Local\\Temp\\ipykernel_8828\\3590294615.py:20]\u001B[0m\n",
      "Epoch 82/100\n",
      "--------------------------------------------------\n",
      "Train Loss: 0.0017\n",
      "Train Metrics: {'IoU': 0.8671027685126491, 'F1-Score': 0.5824240006134368, 'Pixel Accuracy': 0.9985032997816692}\n"
     ]
    },
    {
     "name": "stderr",
     "output_type": "stream",
     "text": [
      "INFO:.\\logs:Model (last) saved as .\\output\\models\\deeplabv3 - mobilenet_v3_large - 100epochs_last.pth.\n"
     ]
    },
    {
     "name": "stdout",
     "output_type": "stream",
     "text": [
      "Val Loss: 0.0172\n",
      "Val Metrics: {'IoU': 0.8454437954147367, 'F1-Score': 0.5746787311713191, 'Pixel Accuracy': 0.9953412361388659}\n",
      "\u001B[92m2025-02-11 20:03:24,858 - .\\logs - INFO - Model (last) saved as .\\output\\models\\deeplabv3 - mobilenet_v3_large - 100epochs_last.pth. [in C:\\Users\\KUAI 01\\AppData\\Local\\Temp\\ipykernel_8828\\3590294615.py:20]\u001B[0m\n",
      "Epoch 83/100\n",
      "--------------------------------------------------\n",
      "Train Loss: 0.0018\n",
      "Train Metrics: {'IoU': 0.8665969250735064, 'F1-Score': 0.5823108263849196, 'Pixel Accuracy': 0.9984063755507591}\n"
     ]
    },
    {
     "name": "stderr",
     "output_type": "stream",
     "text": [
      "INFO:.\\logs:Model (last) saved as .\\output\\models\\deeplabv3 - mobilenet_v3_large - 100epochs_last.pth.\n"
     ]
    },
    {
     "name": "stdout",
     "output_type": "stream",
     "text": [
      "Val Loss: 0.0182\n",
      "Val Metrics: {'IoU': 0.8445716220205718, 'F1-Score': 0.5744479275750418, 'Pixel Accuracy': 0.9949486066390129}\n",
      "\u001B[92m2025-02-11 20:11:54,109 - .\\logs - INFO - Model (last) saved as .\\output\\models\\deeplabv3 - mobilenet_v3_large - 100epochs_last.pth. [in C:\\Users\\KUAI 01\\AppData\\Local\\Temp\\ipykernel_8828\\3590294615.py:20]\u001B[0m\n",
      "Epoch 84/100\n",
      "--------------------------------------------------\n",
      "Train Loss: 0.0018\n",
      "Train Metrics: {'IoU': 0.8667215824163498, 'F1-Score': 0.5824154362935532, 'Pixel Accuracy': 0.9984174046606442}\n"
     ]
    },
    {
     "name": "stderr",
     "output_type": "stream",
     "text": [
      "INFO:.\\logs:Model (last) saved as .\\output\\models\\deeplabv3 - mobilenet_v3_large - 100epochs_last.pth.\n"
     ]
    },
    {
     "name": "stdout",
     "output_type": "stream",
     "text": [
      "Val Loss: 0.0190\n",
      "Val Metrics: {'IoU': 0.8443818432244942, 'F1-Score': 0.5740651159825987, 'Pixel Accuracy': 0.99497859886963}\n",
      "\u001B[92m2025-02-11 20:20:22,032 - .\\logs - INFO - Model (last) saved as .\\output\\models\\deeplabv3 - mobilenet_v3_large - 100epochs_last.pth. [in C:\\Users\\KUAI 01\\AppData\\Local\\Temp\\ipykernel_8828\\3590294615.py:20]\u001B[0m\n",
      "Epoch 85/100\n",
      "--------------------------------------------------\n",
      "Train Loss: 0.0022\n",
      "Train Metrics: {'IoU': 0.8644130088016845, 'F1-Score': 0.581393546439553, 'Pixel Accuracy': 0.9981832940961789}\n"
     ]
    },
    {
     "name": "stderr",
     "output_type": "stream",
     "text": [
      "INFO:.\\logs:Model (last) saved as .\\output\\models\\deeplabv3 - mobilenet_v3_large - 100epochs_last.pth.\n"
     ]
    },
    {
     "name": "stdout",
     "output_type": "stream",
     "text": [
      "Val Loss: 0.0154\n",
      "Val Metrics: {'IoU': 0.8357591581714414, 'F1-Score': 0.5717240488768494, 'Pixel Accuracy': 0.9936132888941869}\n",
      "\u001B[92m2025-02-11 20:28:49,430 - .\\logs - INFO - Model (last) saved as .\\output\\models\\deeplabv3 - mobilenet_v3_large - 100epochs_last.pth. [in C:\\Users\\KUAI 01\\AppData\\Local\\Temp\\ipykernel_8828\\3590294615.py:20]\u001B[0m\n",
      "Epoch 86/100\n",
      "--------------------------------------------------\n",
      "Train Loss: 0.0025\n",
      "Train Metrics: {'IoU': 0.8637546087806901, 'F1-Score': 0.5816403016829171, 'Pixel Accuracy': 0.997958553076952}\n"
     ]
    },
    {
     "name": "stderr",
     "output_type": "stream",
     "text": [
      "INFO:.\\logs:Model (last) saved as .\\output\\models\\deeplabv3 - mobilenet_v3_large - 100epochs_last.pth.\n"
     ]
    },
    {
     "name": "stdout",
     "output_type": "stream",
     "text": [
      "Val Loss: 0.0168\n",
      "Val Metrics: {'IoU': 0.8429981005126542, 'F1-Score': 0.5737070594608349, 'Pixel Accuracy': 0.9947000169841043}\n",
      "\u001B[92m2025-02-11 20:37:17,626 - .\\logs - INFO - Model (last) saved as .\\output\\models\\deeplabv3 - mobilenet_v3_large - 100epochs_last.pth. [in C:\\Users\\KUAI 01\\AppData\\Local\\Temp\\ipykernel_8828\\3590294615.py:20]\u001B[0m\n",
      "Epoch 87/100\n",
      "--------------------------------------------------\n",
      "Train Loss: 0.0018\n",
      "Train Metrics: {'IoU': 0.8665429682773736, 'F1-Score': 0.5823264691012204, 'Pixel Accuracy': 0.9984020488416089}\n"
     ]
    },
    {
     "name": "stderr",
     "output_type": "stream",
     "text": [
      "INFO:.\\logs:Model (last) saved as .\\output\\models\\deeplabv3 - mobilenet_v3_large - 100epochs_last.pth.\n"
     ]
    },
    {
     "name": "stdout",
     "output_type": "stream",
     "text": [
      "Val Loss: 0.0185\n",
      "Val Metrics: {'IoU': 0.8446672894332531, 'F1-Score': 0.5744777178786097, 'Pixel Accuracy': 0.9949398046209864}\n",
      "\u001B[92m2025-02-11 20:45:45,150 - .\\logs - INFO - Model (last) saved as .\\output\\models\\deeplabv3 - mobilenet_v3_large - 100epochs_last.pth. [in C:\\Users\\KUAI 01\\AppData\\Local\\Temp\\ipykernel_8828\\3590294615.py:20]\u001B[0m\n",
      "Epoch 88/100\n",
      "--------------------------------------------------\n",
      "Train Loss: 0.0017\n",
      "Train Metrics: {'IoU': 0.8674530638846933, 'F1-Score': 0.5825290640183111, 'Pixel Accuracy': 0.9985561488461697}\n"
     ]
    },
    {
     "name": "stderr",
     "output_type": "stream",
     "text": [
      "INFO:.\\logs:Model (last) saved as .\\output\\models\\deeplabv3 - mobilenet_v3_large - 100epochs_last.pth.\n"
     ]
    },
    {
     "name": "stdout",
     "output_type": "stream",
     "text": [
      "Val Loss: 0.0205\n",
      "Val Metrics: {'IoU': 0.8450227424937443, 'F1-Score': 0.574598546119502, 'Pixel Accuracy': 0.9949396640932473}\n",
      "\u001B[92m2025-02-11 20:54:15,197 - .\\logs - INFO - Model (last) saved as .\\output\\models\\deeplabv3 - mobilenet_v3_large - 100epochs_last.pth. [in C:\\Users\\KUAI 01\\AppData\\Local\\Temp\\ipykernel_8828\\3590294615.py:20]\u001B[0m\n",
      "Epoch 89/100\n",
      "--------------------------------------------------\n",
      "Train Loss: 0.0016\n",
      "Train Metrics: {'IoU': 0.8676541015306141, 'F1-Score': 0.5825723389687695, 'Pixel Accuracy': 0.9985953053225843}\n"
     ]
    },
    {
     "name": "stderr",
     "output_type": "stream",
     "text": [
      "INFO:.\\logs:Model (last) saved as .\\output\\models\\deeplabv3 - mobilenet_v3_large - 100epochs_last.pth.\n"
     ]
    },
    {
     "name": "stdout",
     "output_type": "stream",
     "text": [
      "Val Loss: 0.0198\n",
      "Val Metrics: {'IoU': 0.844283257577106, 'F1-Score': 0.5740185823209965, 'Pixel Accuracy': 0.9950459066533694}\n",
      "\u001B[92m2025-02-11 21:02:36,918 - .\\logs - INFO - Model (last) saved as .\\output\\models\\deeplabv3 - mobilenet_v3_large - 100epochs_last.pth. [in C:\\Users\\KUAI 01\\AppData\\Local\\Temp\\ipykernel_8828\\3590294615.py:20]\u001B[0m\n",
      "Epoch 90/100\n",
      "--------------------------------------------------\n",
      "Train Loss: 0.0017\n",
      "Train Metrics: {'IoU': 0.867211591892498, 'F1-Score': 0.5824667678535638, 'Pixel Accuracy': 0.9985127756133875}\n"
     ]
    },
    {
     "name": "stderr",
     "output_type": "stream",
     "text": [
      "INFO:.\\logs:Model (last) saved as .\\output\\models\\deeplabv3 - mobilenet_v3_large - 100epochs_last.pth.\n"
     ]
    },
    {
     "name": "stdout",
     "output_type": "stream",
     "text": [
      "Val Loss: 0.0192\n",
      "Val Metrics: {'IoU': 0.8431170905811073, 'F1-Score': 0.5738080645891002, 'Pixel Accuracy': 0.9949170006235151}\n",
      "\u001B[92m2025-02-11 21:11:06,780 - .\\logs - INFO - Model (last) saved as .\\output\\models\\deeplabv3 - mobilenet_v3_large - 100epochs_last.pth. [in C:\\Users\\KUAI 01\\AppData\\Local\\Temp\\ipykernel_8828\\3590294615.py:20]\u001B[0m\n",
      "Epoch 91/100\n",
      "--------------------------------------------------\n",
      "Train Loss: 0.0018\n",
      "Train Metrics: {'IoU': 0.8667172947478788, 'F1-Score': 0.5823642312754377, 'Pixel Accuracy': 0.9984326723432134}\n"
     ]
    },
    {
     "name": "stderr",
     "output_type": "stream",
     "text": [
      "INFO:.\\logs:Model (last) saved as .\\output\\models\\deeplabv3 - mobilenet_v3_large - 100epochs_last.pth.\n"
     ]
    },
    {
     "name": "stdout",
     "output_type": "stream",
     "text": [
      "Val Loss: 0.0193\n",
      "Val Metrics: {'IoU': 0.8446463323640128, 'F1-Score': 0.5745077241946311, 'Pixel Accuracy': 0.9949222529021493}\n",
      "\u001B[92m2025-02-11 21:19:35,257 - .\\logs - INFO - Model (last) saved as .\\output\\models\\deeplabv3 - mobilenet_v3_large - 100epochs_last.pth. [in C:\\Users\\KUAI 01\\AppData\\Local\\Temp\\ipykernel_8828\\3590294615.py:20]\u001B[0m\n",
      "Epoch 92/100\n",
      "--------------------------------------------------\n",
      "Train Loss: 0.0018\n",
      "Train Metrics: {'IoU': 0.866774285917741, 'F1-Score': 0.5823843183855772, 'Pixel Accuracy': 0.9984358015144641}\n"
     ]
    },
    {
     "name": "stderr",
     "output_type": "stream",
     "text": [
      "INFO:.\\logs:Model (last) saved as .\\output\\models\\deeplabv3 - mobilenet_v3_large - 100epochs_last.pth.\n"
     ]
    },
    {
     "name": "stdout",
     "output_type": "stream",
     "text": [
      "Val Loss: 0.0185\n",
      "Val Metrics: {'IoU': 0.8446344203540008, 'F1-Score': 0.5745258810420106, 'Pixel Accuracy': 0.9950177969723722}\n",
      "\u001B[92m2025-02-11 21:28:02,557 - .\\logs - INFO - Model (last) saved as .\\output\\models\\deeplabv3 - mobilenet_v3_large - 100epochs_last.pth. [in C:\\Users\\KUAI 01\\AppData\\Local\\Temp\\ipykernel_8828\\3590294615.py:20]\u001B[0m\n",
      "Epoch 93/100\n",
      "--------------------------------------------------\n",
      "Train Loss: 0.0019\n",
      "Train Metrics: {'IoU': 0.8664675073269369, 'F1-Score': 0.5822851284340151, 'Pixel Accuracy': 0.99838844562419}\n"
     ]
    },
    {
     "name": "stderr",
     "output_type": "stream",
     "text": [
      "INFO:.\\logs:Model (last) saved as .\\output\\models\\deeplabv3 - mobilenet_v3_large - 100epochs_last.pth.\n"
     ]
    },
    {
     "name": "stdout",
     "output_type": "stream",
     "text": [
      "Val Loss: 0.0174\n",
      "Val Metrics: {'IoU': 0.8451762273907661, 'F1-Score': 0.5742637770128076, 'Pixel Accuracy': 0.9952005064182908}\n",
      "\u001B[92m2025-02-11 21:36:30,835 - .\\logs - INFO - Model (last) saved as .\\output\\models\\deeplabv3 - mobilenet_v3_large - 100epochs_last.pth. [in C:\\Users\\KUAI 01\\AppData\\Local\\Temp\\ipykernel_8828\\3590294615.py:20]\u001B[0m\n",
      "Epoch 94/100\n",
      "--------------------------------------------------\n",
      "Train Loss: 0.0019\n",
      "Train Metrics: {'IoU': 0.8664935763367201, 'F1-Score': 0.5822891947812198, 'Pixel Accuracy': 0.9983864656755027}\n"
     ]
    },
    {
     "name": "stderr",
     "output_type": "stream",
     "text": [
      "INFO:.\\logs:Model (last) saved as .\\output\\models\\deeplabv3 - mobilenet_v3_large - 100epochs_last.pth.\n"
     ]
    },
    {
     "name": "stdout",
     "output_type": "stream",
     "text": [
      "Val Loss: 0.0191\n",
      "Val Metrics: {'IoU': 0.8439712145902815, 'F1-Score': 0.5738882187509189, 'Pixel Accuracy': 0.9949945529011914}\n",
      "\u001B[92m2025-02-11 21:44:59,095 - .\\logs - INFO - Model (last) saved as .\\output\\models\\deeplabv3 - mobilenet_v3_large - 100epochs_last.pth. [in C:\\Users\\KUAI 01\\AppData\\Local\\Temp\\ipykernel_8828\\3590294615.py:20]\u001B[0m\n",
      "Epoch 95/100\n",
      "--------------------------------------------------\n",
      "Train Loss: 0.0018\n",
      "Train Metrics: {'IoU': 0.8668202638952799, 'F1-Score': 0.5824631327869831, 'Pixel Accuracy': 0.9984311041457354}\n"
     ]
    },
    {
     "name": "stderr",
     "output_type": "stream",
     "text": [
      "INFO:.\\logs:Model (last) saved as .\\output\\models\\deeplabv3 - mobilenet_v3_large - 100epochs_last.pth.\n"
     ]
    },
    {
     "name": "stdout",
     "output_type": "stream",
     "text": [
      "Val Loss: 0.0194\n",
      "Val Metrics: {'IoU': 0.8447778566475332, 'F1-Score': 0.5741675711461227, 'Pixel Accuracy': 0.9951490976297073}\n",
      "\u001B[92m2025-02-11 21:53:28,560 - .\\logs - INFO - Model (last) saved as .\\output\\models\\deeplabv3 - mobilenet_v3_large - 100epochs_last.pth. [in C:\\Users\\KUAI 01\\AppData\\Local\\Temp\\ipykernel_8828\\3590294615.py:20]\u001B[0m\n",
      "Epoch 96/100\n",
      "--------------------------------------------------\n",
      "Train Loss: 0.0018\n",
      "Train Metrics: {'IoU': 0.8670113679842885, 'F1-Score': 0.5824819487972178, 'Pixel Accuracy': 0.9984752160114725}\n"
     ]
    },
    {
     "name": "stderr",
     "output_type": "stream",
     "text": [
      "INFO:.\\logs:Model (last) saved as .\\output\\models\\deeplabv3 - mobilenet_v3_large - 100epochs_last.pth.\n"
     ]
    },
    {
     "name": "stdout",
     "output_type": "stream",
     "text": [
      "Val Loss: 0.0213\n",
      "Val Metrics: {'IoU': 0.8438885650278007, 'F1-Score': 0.574297368743994, 'Pixel Accuracy': 0.9947995708806672}\n",
      "\u001B[92m2025-02-11 22:01:58,641 - .\\logs - INFO - Model (last) saved as .\\output\\models\\deeplabv3 - mobilenet_v3_large - 100epochs_last.pth. [in C:\\Users\\KUAI 01\\AppData\\Local\\Temp\\ipykernel_8828\\3590294615.py:20]\u001B[0m\n",
      "Epoch 97/100\n",
      "--------------------------------------------------\n",
      "Train Loss: 0.0025\n",
      "Train Metrics: {'IoU': 0.863582313823061, 'F1-Score': 0.5814417738571818, 'Pixel Accuracy': 0.9979922864744928}\n"
     ]
    },
    {
     "name": "stderr",
     "output_type": "stream",
     "text": [
      "INFO:.\\logs:Model (last) saved as .\\output\\models\\deeplabv3 - mobilenet_v3_large - 100epochs_last.pth.\n"
     ]
    },
    {
     "name": "stdout",
     "output_type": "stream",
     "text": [
      "Val Loss: 0.0131\n",
      "Val Metrics: {'IoU': 0.8439171530687026, 'F1-Score': 0.5739132022335581, 'Pixel Accuracy': 0.9952364964206724}\n",
      "\u001B[92m2025-02-11 22:10:23,582 - .\\logs - INFO - Model (last) saved as .\\output\\models\\deeplabv3 - mobilenet_v3_large - 100epochs_last.pth. [in C:\\Users\\KUAI 01\\AppData\\Local\\Temp\\ipykernel_8828\\3590294615.py:20]\u001B[0m\n",
      "Epoch 98/100\n",
      "--------------------------------------------------\n",
      "Train Loss: 0.0019\n",
      "Train Metrics: {'IoU': 0.8661356221489727, 'F1-Score': 0.5822196588119839, 'Pixel Accuracy': 0.9983523404917677}\n"
     ]
    },
    {
     "name": "stderr",
     "output_type": "stream",
     "text": [
      "INFO:.\\logs:Model (last) saved as .\\output\\models\\deeplabv3 - mobilenet_v3_large - 100epochs_last.pth.\n"
     ]
    },
    {
     "name": "stdout",
     "output_type": "stream",
     "text": [
      "Val Loss: 0.0203\n",
      "Val Metrics: {'IoU': 0.8443344469270567, 'F1-Score': 0.5740192864824386, 'Pixel Accuracy': 0.994762100877553}\n",
      "\u001B[92m2025-02-11 22:18:56,193 - .\\logs - INFO - Model (last) saved as .\\output\\models\\deeplabv3 - mobilenet_v3_large - 100epochs_last.pth. [in C:\\Users\\KUAI 01\\AppData\\Local\\Temp\\ipykernel_8828\\3590294615.py:20]\u001B[0m\n",
      "Epoch 99/100\n",
      "--------------------------------------------------\n",
      "Train Loss: 0.0017\n",
      "Train Metrics: {'IoU': 0.8673607881263752, 'F1-Score': 0.5824772692699526, 'Pixel Accuracy': 0.9985602133965231}\n"
     ]
    },
    {
     "name": "stderr",
     "output_type": "stream",
     "text": [
      "INFO:.\\logs:Model (last) saved as .\\output\\models\\deeplabv3 - mobilenet_v3_large - 100epochs_last.pth.\n"
     ]
    },
    {
     "name": "stdout",
     "output_type": "stream",
     "text": [
      "Val Loss: 0.0237\n",
      "Val Metrics: {'IoU': 0.8444328590901229, 'F1-Score': 0.5740381319918771, 'Pixel Accuracy': 0.994751775895592}\n",
      "\u001B[92m2025-02-11 22:27:27,949 - .\\logs - INFO - Model (last) saved as .\\output\\models\\deeplabv3 - mobilenet_v3_large - 100epochs_last.pth. [in C:\\Users\\KUAI 01\\AppData\\Local\\Temp\\ipykernel_8828\\3590294615.py:20]\u001B[0m\n",
      "Epoch 100/100\n",
      "--------------------------------------------------\n",
      "Train Loss: 0.0016\n",
      "Train Metrics: {'IoU': 0.8680980094094805, 'F1-Score': 0.5826859908874955, 'Pixel Accuracy': 0.9986539325891255}\n"
     ]
    },
    {
     "name": "stderr",
     "output_type": "stream",
     "text": [
      "INFO:.\\logs:Model (last) saved as .\\output\\models\\deeplabv3 - mobilenet_v3_large - 100epochs_last.pth.\n"
     ]
    },
    {
     "name": "stdout",
     "output_type": "stream",
     "text": [
      "Val Loss: 0.0234\n",
      "Val Metrics: {'IoU': 0.8448115729176215, 'F1-Score': 0.5741481426423484, 'Pixel Accuracy': 0.9948828355239255}\n",
      "\u001B[92m2025-02-11 22:35:55,405 - .\\logs - INFO - Model (last) saved as .\\output\\models\\deeplabv3 - mobilenet_v3_large - 100epochs_last.pth. [in C:\\Users\\KUAI 01\\AppData\\Local\\Temp\\ipykernel_8828\\3590294615.py:20]\u001B[0m\n"
     ]
    },
    {
     "name": "stderr",
     "output_type": "stream",
     "text": [
      "2025/02/11 22:35:55 WARNING mlflow.utils.requirements_utils: Found torch version (2.6.0+cu126) contains a local version label (+cu126). MLflow logged a pip requirement for this package as 'torch==2.6.0' without the local version label to make it installable from PyPI. To specify pip requirements containing local version labels, please use `conda_env` or `pip_requirements`.\n",
      "2025/02/11 22:36:12 WARNING mlflow.models.model: Model logged without a signature and input example. Please set `input_example` parameter when logging the model to auto infer the model signature.\n"
     ]
    },
    {
     "name": "stdout",
     "output_type": "stream",
     "text": [
      "Final model from the last epoch saved as .\\output\\models\\deeplabv3 - mobilenet_v3_large - 100epochs_last.pth\n"
     ]
    }
   ],
   "execution_count": 11
  },
  {
   "metadata": {},
   "cell_type": "markdown",
   "source": "## Evaluation"
  },
  {
   "metadata": {
    "ExecuteTime": {
     "end_time": "2025-02-10T19:00:44.547379Z",
     "start_time": "2025-02-10T19:00:44.305030Z"
    }
   },
   "cell_type": "code",
   "source": [
    "def evaluate_model(model, test_data_generator):\n",
    "    model.eval()\n",
    "    test_loss = 0.0\n",
    "\n",
    "    with torch.no_grad():\n",
    "        for images, masks in test_data_generator:\n",
    "            images = images.to(device)\n",
    "            masks = masks.long().to(device)\n",
    "\n",
    "            # Forward pass\n",
    "            outputs = model(images)['out']\n",
    "            loss = criterion(outputs, masks)\n",
    "            test_loss += loss.item()\n",
    "\n",
    "    avg_test_loss = test_loss / len(test_data_generator)\n",
    "    print(f\"Test Loss: {avg_test_loss:.4f}\")"
   ],
   "outputs": [],
   "execution_count": 37
  },
  {
   "metadata": {
    "ExecuteTime": {
     "end_time": "2025-02-10T19:00:45.604966Z",
     "start_time": "2025-02-10T19:00:45.373907Z"
    }
   },
   "cell_type": "code",
   "source": [
    "def log_evaluation_metrics(model, data_generator):\n",
    "    \"\"\"\n",
    "    Evaluate the model on a given data generator and log metrics\n",
    "\n",
    "    Parameters:\n",
    "        model (torch.nn.Module): The trained model\n",
    "        data_generator: The data generator (e.g., test_data_generator)\n",
    "    \"\"\"\n",
    "    model.eval()  # Make sure the model is in evaluation mode\n",
    "    test_metrics = {\"IoU\": 0.0, \"F1-Score\": 0.0, \"Pixel Accuracy\": 0.0}\n",
    "    avg_test_loss = 0.0\n",
    "\n",
    "    with torch.no_grad():\n",
    "        for images, masks in data_generator:\n",
    "            images = images.to(device)\n",
    "            masks = masks.long().to(device)\n",
    "            outputs = model(images)['out']\n",
    "            loss = criterion(outputs, masks)\n",
    "            avg_test_loss += loss.item()\n",
    "            batch_metrics = calculate_metrics(outputs, masks, num_classes)  # Define this appropriately\n",
    "            for key in test_metrics.keys():\n",
    "                test_metrics[key] += batch_metrics[key]\n",
    "\n",
    "    # avg_metrics = {k: (v / len(data_generator)) for k, v in test_metrics.items()}\n",
    "    avg_metrics = {}\n",
    "    for k, v in test_metrics.items():\n",
    "        # Reduce to scalar and handle potential 1D arrays or tensors\n",
    "        if isinstance(v, (np.ndarray, torch.Tensor)) and v.size == 1:\n",
    "            avg_metrics[k] = float(v.item())\n",
    "        elif isinstance(v, (np.ndarray, torch.Tensor)):\n",
    "            avg_metrics[k] = float(v.mean())  # Example for multi-valued arrays\n",
    "        else:\n",
    "            avg_metrics[k] = float(v / len(data_generator))  # Safe conversion for scalars\n",
    "\n",
    "    avg_loss = avg_test_loss / len(data_generator)\n",
    "    mlflow.log_metrics(avg_metrics)  # Log test metrics\n",
    "    mlflow.log_metric(\"test_loss\", avg_loss)"
   ],
   "outputs": [],
   "execution_count": 38
  },
  {
   "metadata": {
    "ExecuteTime": {
     "end_time": "2025-02-10T19:00:47.219580Z",
     "start_time": "2025-02-10T19:00:46.991496Z"
    }
   },
   "cell_type": "code",
   "source": [
    "import torch\n",
    "from torchvision.models.segmentation import deeplabv3_resnet50, DeepLabV3_ResNet50_Weights\n",
    "\n",
    "def load_trained_model(model_path: str):\n",
    "    from torchvision.models.segmentation import deeplabv3_resnet50,DeepLabV3_ResNet50_Weights\n",
    "\n",
    "    # Load the DeepLabV3 model\n",
    "    trained_model = deeplabv3_resnet50(weights=DeepLabV3_ResNet50_Weights.COCO_WITH_VOC_LABELS_V1)\n",
    "\n",
    "    # Modify the classifier for the number of classes\n",
    "    num_classes = 2\n",
    "    trained_model.classifier[4] = nn.Conv2d(256, num_classes, kernel_size=(1, 1))\n",
    "\n",
    "    # Move the trained model to GPU if available\n",
    "    device = torch.device(\"cuda\" if torch.cuda.is_available() else \"cpu\")\n",
    "    trained_model = trained_model.to(device)\n",
    "    trained_model.load_state_dict(torch.load(model_path, map_location=device))  # Load weights\n",
    "    trained_model.eval()  # Set trained model to evaluation mode\n",
    "    return trained_model"
   ],
   "outputs": [],
   "execution_count": 39
  },
  {
   "metadata": {
    "ExecuteTime": {
     "end_time": "2025-02-10T19:04:50.742794Z",
     "start_time": "2025-02-10T19:03:37.007339Z"
    }
   },
   "cell_type": "code",
   "source": [
    "trained_model_path=r'output/models/deeplabv3 - resnet50 - 100epochs_best.pth'\n",
    "\n",
    "loaded_trained_model = load_trained_model(trained_model_path)\n",
    "log_evaluation_metrics(loaded_trained_model, test_data_generator)"
   ],
   "outputs": [],
   "execution_count": 41
  },
  {
   "metadata": {},
   "cell_type": "code",
   "outputs": [],
   "execution_count": null,
   "source": ""
  }
 ],
 "metadata": {
  "kernelspec": {
   "display_name": "Python 3 (ipykernel)",
   "language": "python",
   "name": "python3"
  },
  "language_info": {
   "codemirror_mode": {
    "name": "ipython",
    "version": 3
   },
   "file_extension": ".py",
   "mimetype": "text/x-python",
   "name": "python",
   "nbconvert_exporter": "python",
   "pygments_lexer": "ipython3",
   "version": "3.10.15"
  }
 },
 "nbformat": 4,
 "nbformat_minor": 4
}
